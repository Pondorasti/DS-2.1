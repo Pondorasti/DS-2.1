{
  "nbformat": 4,
  "nbformat_minor": 0,
  "metadata": {
    "kernelspec": {
      "display_name": "Python 3",
      "language": "python",
      "name": "python3"
    },
    "language_info": {
      "codemirror_mode": {
        "name": "ipython",
        "version": 3
      },
      "file_extension": ".py",
      "mimetype": "text/x-python",
      "name": "python",
      "nbconvert_exporter": "python",
      "pygments_lexer": "ipython3",
      "version": "3.6.5"
    },
    "colab": {
      "name": "PCA & KMeans (Wholesale Customer).ipynb",
      "provenance": [],
      "include_colab_link": true
    }
  },
  "cells": [
    {
      "cell_type": "markdown",
      "metadata": {
        "id": "view-in-github",
        "colab_type": "text"
      },
      "source": [
        "<a href=\"https://colab.research.google.com/github/Pondorasti/DS-2.1/blob/main/Class%20Work/PCA_%26_KMeans%20(Wholesale_Customer).ipynb\" target=\"_parent\"><img src=\"https://colab.research.google.com/assets/colab-badge.svg\" alt=\"Open In Colab\"/></a>"
      ]
    },
    {
      "cell_type": "markdown",
      "metadata": {
        "id": "pSI84CluCc-e"
      },
      "source": [
        "## Apply PCA and Clustering to Wholesale Customer Data\n",
        "\n",
        "In this homework, we'll examine the [**_Wholesale Customers Dataset_**](https://archive.ics.uci.edu/ml/datasets/Wholesale+customers), which we'll get from the UCI Machine Learning Datasets repository.  This dataset contains the purchase records from clients of a wholesale distributor.  It details the total annual purchases across categories seen in the data dictionary below:\n",
        "\n",
        "**Category** | **Description** \n",
        ":-----:|:-----:\n",
        "CHANNEL| 1= Hotel/Restaurant/Cafe, 2=Retailer (Nominal)\n",
        "REGION| Geographic region of Portugal for each order (Nominal)\n",
        "FRESH| Annual spending (m.u.) on fresh products (Continuous);\n",
        "MILK| Annual spending (m.u.) on milk products (Continuous); \n",
        "GROCERY| Annual spending (m.u.)on grocery products (Continuous); \n",
        "FROZEN| Annual spending (m.u.)on frozen products (Continuous) \n",
        "DETERGENTS\\_PAPER| Annual spending (m.u.) on detergents and paper products (Continuous) \n",
        "DELICATESSEN| Annual spending (m.u.)on and delicatessen products (Continuous); \n",
        "\n",
        "**_TASK:_** Read in `wholesale_customers_data.csv` from the `datasets` folder and store in a dataframe.  Store the `Channel` column in a separate variable, and then drop the `Channel` and `Region` columns from the dataframe. Scale the data and use PCA to engineer new features (Principal Components).  Print out the explained variance for each principal component. "
      ]
    },
    {
      "cell_type": "code",
      "metadata": {
        "id": "7Mh_R8N-Cc-h"
      },
      "source": [
        "import numpy as np\n",
        "import pandas as pd\n",
        "import matplotlib.pyplot as plt\n",
        "from sklearn.cluster import KMeans\n",
        "from sklearn.decomposition import PCA\n",
        "from sklearn.preprocessing import StandardScaler\n",
        "from sklearn.metrics import confusion_matrix"
      ],
      "execution_count": 2,
      "outputs": []
    },
    {
      "cell_type": "code",
      "metadata": {
        "colab": {
          "base_uri": "https://localhost:8080/",
          "height": 419
        },
        "id": "3RhOWsm0skXB",
        "outputId": "6b9b200d-1b77-4e47-ad3b-c349b22f28d9"
      },
      "source": [
        "# Read and convert Wholesale Customers CSV into a DataFrame\n",
        "df = pd.read_csv(\"https://raw.githubusercontent.com/Pondorasti/DS-2.1/main/Datasets/Wholesale%20customers.csv\")\n",
        "df"
      ],
      "execution_count": 3,
      "outputs": [
        {
          "output_type": "execute_result",
          "data": {
            "text/html": [
              "<div>\n",
              "<style scoped>\n",
              "    .dataframe tbody tr th:only-of-type {\n",
              "        vertical-align: middle;\n",
              "    }\n",
              "\n",
              "    .dataframe tbody tr th {\n",
              "        vertical-align: top;\n",
              "    }\n",
              "\n",
              "    .dataframe thead th {\n",
              "        text-align: right;\n",
              "    }\n",
              "</style>\n",
              "<table border=\"1\" class=\"dataframe\">\n",
              "  <thead>\n",
              "    <tr style=\"text-align: right;\">\n",
              "      <th></th>\n",
              "      <th>Channel</th>\n",
              "      <th>Region</th>\n",
              "      <th>Fresh</th>\n",
              "      <th>Milk</th>\n",
              "      <th>Grocery</th>\n",
              "      <th>Frozen</th>\n",
              "      <th>Detergents_Paper</th>\n",
              "      <th>Delicassen</th>\n",
              "    </tr>\n",
              "  </thead>\n",
              "  <tbody>\n",
              "    <tr>\n",
              "      <th>0</th>\n",
              "      <td>2</td>\n",
              "      <td>3</td>\n",
              "      <td>12669</td>\n",
              "      <td>9656</td>\n",
              "      <td>7561</td>\n",
              "      <td>214</td>\n",
              "      <td>2674</td>\n",
              "      <td>1338</td>\n",
              "    </tr>\n",
              "    <tr>\n",
              "      <th>1</th>\n",
              "      <td>2</td>\n",
              "      <td>3</td>\n",
              "      <td>7057</td>\n",
              "      <td>9810</td>\n",
              "      <td>9568</td>\n",
              "      <td>1762</td>\n",
              "      <td>3293</td>\n",
              "      <td>1776</td>\n",
              "    </tr>\n",
              "    <tr>\n",
              "      <th>2</th>\n",
              "      <td>2</td>\n",
              "      <td>3</td>\n",
              "      <td>6353</td>\n",
              "      <td>8808</td>\n",
              "      <td>7684</td>\n",
              "      <td>2405</td>\n",
              "      <td>3516</td>\n",
              "      <td>7844</td>\n",
              "    </tr>\n",
              "    <tr>\n",
              "      <th>3</th>\n",
              "      <td>1</td>\n",
              "      <td>3</td>\n",
              "      <td>13265</td>\n",
              "      <td>1196</td>\n",
              "      <td>4221</td>\n",
              "      <td>6404</td>\n",
              "      <td>507</td>\n",
              "      <td>1788</td>\n",
              "    </tr>\n",
              "    <tr>\n",
              "      <th>4</th>\n",
              "      <td>2</td>\n",
              "      <td>3</td>\n",
              "      <td>22615</td>\n",
              "      <td>5410</td>\n",
              "      <td>7198</td>\n",
              "      <td>3915</td>\n",
              "      <td>1777</td>\n",
              "      <td>5185</td>\n",
              "    </tr>\n",
              "    <tr>\n",
              "      <th>...</th>\n",
              "      <td>...</td>\n",
              "      <td>...</td>\n",
              "      <td>...</td>\n",
              "      <td>...</td>\n",
              "      <td>...</td>\n",
              "      <td>...</td>\n",
              "      <td>...</td>\n",
              "      <td>...</td>\n",
              "    </tr>\n",
              "    <tr>\n",
              "      <th>435</th>\n",
              "      <td>1</td>\n",
              "      <td>3</td>\n",
              "      <td>29703</td>\n",
              "      <td>12051</td>\n",
              "      <td>16027</td>\n",
              "      <td>13135</td>\n",
              "      <td>182</td>\n",
              "      <td>2204</td>\n",
              "    </tr>\n",
              "    <tr>\n",
              "      <th>436</th>\n",
              "      <td>1</td>\n",
              "      <td>3</td>\n",
              "      <td>39228</td>\n",
              "      <td>1431</td>\n",
              "      <td>764</td>\n",
              "      <td>4510</td>\n",
              "      <td>93</td>\n",
              "      <td>2346</td>\n",
              "    </tr>\n",
              "    <tr>\n",
              "      <th>437</th>\n",
              "      <td>2</td>\n",
              "      <td>3</td>\n",
              "      <td>14531</td>\n",
              "      <td>15488</td>\n",
              "      <td>30243</td>\n",
              "      <td>437</td>\n",
              "      <td>14841</td>\n",
              "      <td>1867</td>\n",
              "    </tr>\n",
              "    <tr>\n",
              "      <th>438</th>\n",
              "      <td>1</td>\n",
              "      <td>3</td>\n",
              "      <td>10290</td>\n",
              "      <td>1981</td>\n",
              "      <td>2232</td>\n",
              "      <td>1038</td>\n",
              "      <td>168</td>\n",
              "      <td>2125</td>\n",
              "    </tr>\n",
              "    <tr>\n",
              "      <th>439</th>\n",
              "      <td>1</td>\n",
              "      <td>3</td>\n",
              "      <td>2787</td>\n",
              "      <td>1698</td>\n",
              "      <td>2510</td>\n",
              "      <td>65</td>\n",
              "      <td>477</td>\n",
              "      <td>52</td>\n",
              "    </tr>\n",
              "  </tbody>\n",
              "</table>\n",
              "<p>440 rows × 8 columns</p>\n",
              "</div>"
            ],
            "text/plain": [
              "     Channel  Region  Fresh  ...  Frozen  Detergents_Paper  Delicassen\n",
              "0          2       3  12669  ...     214              2674        1338\n",
              "1          2       3   7057  ...    1762              3293        1776\n",
              "2          2       3   6353  ...    2405              3516        7844\n",
              "3          1       3  13265  ...    6404               507        1788\n",
              "4          2       3  22615  ...    3915              1777        5185\n",
              "..       ...     ...    ...  ...     ...               ...         ...\n",
              "435        1       3  29703  ...   13135               182        2204\n",
              "436        1       3  39228  ...    4510                93        2346\n",
              "437        2       3  14531  ...     437             14841        1867\n",
              "438        1       3  10290  ...    1038               168        2125\n",
              "439        1       3   2787  ...      65               477          52\n",
              "\n",
              "[440 rows x 8 columns]"
            ]
          },
          "metadata": {},
          "execution_count": 3
        }
      ]
    },
    {
      "cell_type": "code",
      "metadata": {
        "colab": {
          "base_uri": "https://localhost:8080/"
        },
        "id": "3hTM20Jhs_cT",
        "outputId": "0b54a814-feec-4b13-eba2-cbb589a14bef"
      },
      "source": [
        "# Store Channel and Region columns in separate variables and remove them\n",
        "channel = df[\"Channel\"]\n",
        "region = df[\"Region\"]\n",
        "df = df.drop(columns=[\"Channel\", \"Region\"])\n",
        "channel"
      ],
      "execution_count": 4,
      "outputs": [
        {
          "output_type": "execute_result",
          "data": {
            "text/plain": [
              "0      2\n",
              "1      2\n",
              "2      2\n",
              "3      1\n",
              "4      2\n",
              "      ..\n",
              "435    1\n",
              "436    1\n",
              "437    2\n",
              "438    1\n",
              "439    1\n",
              "Name: Channel, Length: 440, dtype: int64"
            ]
          },
          "metadata": {},
          "execution_count": 4
        }
      ]
    },
    {
      "cell_type": "code",
      "metadata": {
        "colab": {
          "base_uri": "https://localhost:8080/"
        },
        "id": "0Jv0KxsMJUWk",
        "outputId": "b79f700f-2614-4543-d446-435e2af9531a"
      },
      "source": [
        "# Normalize data using StandardScaler\n",
        "scaler = StandardScaler()\n",
        "scaled_df = scaler.fit_transform(df)\n",
        "scaled_df"
      ],
      "execution_count": 5,
      "outputs": [
        {
          "output_type": "execute_result",
          "data": {
            "text/plain": [
              "array([[ 0.05293319,  0.52356777, -0.04111489, -0.58936716, -0.04356873,\n",
              "        -0.06633906],\n",
              "       [-0.39130197,  0.54445767,  0.17031835, -0.27013618,  0.08640684,\n",
              "         0.08915105],\n",
              "       [-0.44702926,  0.40853771, -0.0281571 , -0.13753572,  0.13323164,\n",
              "         2.24329255],\n",
              "       ...,\n",
              "       [ 0.20032554,  1.31467078,  2.34838631, -0.54337975,  2.51121768,\n",
              "         0.12145607],\n",
              "       [-0.13538389, -0.51753572, -0.60251388, -0.41944059, -0.56977032,\n",
              "         0.21304614],\n",
              "       [-0.72930698, -0.5559243 , -0.57322717, -0.62009417, -0.50488752,\n",
              "        -0.52286938]])"
            ]
          },
          "metadata": {},
          "execution_count": 5
        }
      ]
    },
    {
      "cell_type": "code",
      "metadata": {
        "colab": {
          "base_uri": "https://localhost:8080/",
          "height": 419
        },
        "id": "T_goCL9DqfMw",
        "outputId": "32864fc7-0f32-43cb-fb65-42d0fd3cfe6c"
      },
      "source": [
        "# Calculate and fit PCA \n",
        "pca = PCA()\n",
        "pca_data = pca.fit_transform(scaled_df)\n",
        "\n",
        "percentage_variance = np.round(pca.explained_variance_ratio_ * 100, decimals=1)\n",
        "pc_range = range(1, len(percentage_variance) + 1)\n",
        "labels = [\"PC\" + str(x) for x in pc_range]\n",
        "\n",
        "# Create a dataframe based on PCA data\n",
        "pca_df = pd.DataFrame(pca_data, columns=labels)\n",
        "pca_df"
      ],
      "execution_count": 6,
      "outputs": [
        {
          "output_type": "execute_result",
          "data": {
            "text/html": [
              "<div>\n",
              "<style scoped>\n",
              "    .dataframe tbody tr th:only-of-type {\n",
              "        vertical-align: middle;\n",
              "    }\n",
              "\n",
              "    .dataframe tbody tr th {\n",
              "        vertical-align: top;\n",
              "    }\n",
              "\n",
              "    .dataframe thead th {\n",
              "        text-align: right;\n",
              "    }\n",
              "</style>\n",
              "<table border=\"1\" class=\"dataframe\">\n",
              "  <thead>\n",
              "    <tr style=\"text-align: right;\">\n",
              "      <th></th>\n",
              "      <th>PC1</th>\n",
              "      <th>PC2</th>\n",
              "      <th>PC3</th>\n",
              "      <th>PC4</th>\n",
              "      <th>PC5</th>\n",
              "      <th>PC6</th>\n",
              "    </tr>\n",
              "  </thead>\n",
              "  <tbody>\n",
              "    <tr>\n",
              "      <th>0</th>\n",
              "      <td>0.193291</td>\n",
              "      <td>-0.305100</td>\n",
              "      <td>-0.140878</td>\n",
              "      <td>-0.486432</td>\n",
              "      <td>0.495281</td>\n",
              "      <td>-0.007414</td>\n",
              "    </tr>\n",
              "    <tr>\n",
              "      <th>1</th>\n",
              "      <td>0.434420</td>\n",
              "      <td>-0.328413</td>\n",
              "      <td>0.319007</td>\n",
              "      <td>-0.178830</td>\n",
              "      <td>0.365579</td>\n",
              "      <td>0.054572</td>\n",
              "    </tr>\n",
              "    <tr>\n",
              "      <th>2</th>\n",
              "      <td>0.811143</td>\n",
              "      <td>0.815096</td>\n",
              "      <td>1.523416</td>\n",
              "      <td>-1.254082</td>\n",
              "      <td>-0.379054</td>\n",
              "      <td>-0.277539</td>\n",
              "    </tr>\n",
              "    <tr>\n",
              "      <th>3</th>\n",
              "      <td>-0.778648</td>\n",
              "      <td>0.652754</td>\n",
              "      <td>0.163012</td>\n",
              "      <td>0.380060</td>\n",
              "      <td>-0.276138</td>\n",
              "      <td>0.060718</td>\n",
              "    </tr>\n",
              "    <tr>\n",
              "      <th>4</th>\n",
              "      <td>0.166287</td>\n",
              "      <td>1.271434</td>\n",
              "      <td>0.066279</td>\n",
              "      <td>-0.826227</td>\n",
              "      <td>-0.394211</td>\n",
              "      <td>-0.026825</td>\n",
              "    </tr>\n",
              "    <tr>\n",
              "      <th>...</th>\n",
              "      <td>...</td>\n",
              "      <td>...</td>\n",
              "      <td>...</td>\n",
              "      <td>...</td>\n",
              "      <td>...</td>\n",
              "      <td>...</td>\n",
              "    </tr>\n",
              "    <tr>\n",
              "      <th>435</th>\n",
              "      <td>0.870602</td>\n",
              "      <td>2.220845</td>\n",
              "      <td>-0.605500</td>\n",
              "      <td>1.049263</td>\n",
              "      <td>0.423781</td>\n",
              "      <td>0.869495</td>\n",
              "    </tr>\n",
              "    <tr>\n",
              "      <th>436</th>\n",
              "      <td>-0.902520</td>\n",
              "      <td>1.676916</td>\n",
              "      <td>-1.418980</td>\n",
              "      <td>-0.572274</td>\n",
              "      <td>-0.257026</td>\n",
              "      <td>-0.226535</td>\n",
              "    </tr>\n",
              "    <tr>\n",
              "      <th>437</th>\n",
              "      <td>3.465704</td>\n",
              "      <td>-1.039838</td>\n",
              "      <td>-0.713161</td>\n",
              "      <td>0.033408</td>\n",
              "      <td>-0.538768</td>\n",
              "      <td>-0.085349</td>\n",
              "    </tr>\n",
              "    <tr>\n",
              "      <th>438</th>\n",
              "      <td>-0.918023</td>\n",
              "      <td>-0.030047</td>\n",
              "      <td>0.258408</td>\n",
              "      <td>-0.524578</td>\n",
              "      <td>-0.093215</td>\n",
              "      <td>-0.028943</td>\n",
              "    </tr>\n",
              "    <tr>\n",
              "      <th>439</th>\n",
              "      <td>-1.105137</td>\n",
              "      <td>-0.861338</td>\n",
              "      <td>0.305154</td>\n",
              "      <td>-0.114377</td>\n",
              "      <td>0.109903</td>\n",
              "      <td>0.028978</td>\n",
              "    </tr>\n",
              "  </tbody>\n",
              "</table>\n",
              "<p>440 rows × 6 columns</p>\n",
              "</div>"
            ],
            "text/plain": [
              "          PC1       PC2       PC3       PC4       PC5       PC6\n",
              "0    0.193291 -0.305100 -0.140878 -0.486432  0.495281 -0.007414\n",
              "1    0.434420 -0.328413  0.319007 -0.178830  0.365579  0.054572\n",
              "2    0.811143  0.815096  1.523416 -1.254082 -0.379054 -0.277539\n",
              "3   -0.778648  0.652754  0.163012  0.380060 -0.276138  0.060718\n",
              "4    0.166287  1.271434  0.066279 -0.826227 -0.394211 -0.026825\n",
              "..        ...       ...       ...       ...       ...       ...\n",
              "435  0.870602  2.220845 -0.605500  1.049263  0.423781  0.869495\n",
              "436 -0.902520  1.676916 -1.418980 -0.572274 -0.257026 -0.226535\n",
              "437  3.465704 -1.039838 -0.713161  0.033408 -0.538768 -0.085349\n",
              "438 -0.918023 -0.030047  0.258408 -0.524578 -0.093215 -0.028943\n",
              "439 -1.105137 -0.861338  0.305154 -0.114377  0.109903  0.028978\n",
              "\n",
              "[440 rows x 6 columns]"
            ]
          },
          "metadata": {},
          "execution_count": 6
        }
      ]
    },
    {
      "cell_type": "code",
      "metadata": {
        "id": "HNkfgGXBgDHv",
        "outputId": "fbe2afbb-afd1-4e65-eec2-7acaddd6ec66",
        "colab": {
          "base_uri": "https://localhost:8080/"
        }
      },
      "source": [
        "# PCA - Explained Variance values\n",
        "pca.explained_variance_"
      ],
      "execution_count": 14,
      "outputs": [
        {
          "output_type": "execute_result",
          "data": {
            "text/plain": [
              "array([2.65099857, 1.70646229, 0.74175057, 0.56501435, 0.28632709,\n",
              "       0.06311455])"
            ]
          },
          "metadata": {},
          "execution_count": 14
        }
      ]
    },
    {
      "cell_type": "code",
      "metadata": {
        "id": "5-9psPEzgHqf",
        "outputId": "1d4c104a-318c-4a9e-fdbf-5f05dab8ea18",
        "colab": {
          "base_uri": "https://localhost:8080/"
        }
      },
      "source": [
        "# PCA - Explained Variance Ratio values\n",
        "pca.explained_variance_ratio_"
      ],
      "execution_count": 15,
      "outputs": [
        {
          "output_type": "execute_result",
          "data": {
            "text/plain": [
              "array([0.44082893, 0.283764  , 0.12334413, 0.09395504, 0.04761272,\n",
              "       0.01049519])"
            ]
          },
          "metadata": {},
          "execution_count": 15
        }
      ]
    },
    {
      "cell_type": "code",
      "metadata": {
        "id": "pBeFoCl5MrdS",
        "colab": {
          "base_uri": "https://localhost:8080/",
          "height": 295
        },
        "outputId": "6a683e21-6d48-4b93-9cc2-32d7931b16fa"
      },
      "source": [
        "# Plot percentage of explained variance on a Scree plot\n",
        "plt.bar(x=pc_range, height=percentage_variance, tick_label=labels)\n",
        "plt.ylabel(\"Percentage of Explained Variance\")\n",
        "plt.xlabel(\"Principal Component\")\n",
        "plt.title(\"Scree Plot\")\n",
        "plt.show()"
      ],
      "execution_count": 7,
      "outputs": [
        {
          "output_type": "display_data",
          "data": {
            "image/png": "[encoded data removed]",
            "text/plain": [
              "<Figure size 432x288 with 1 Axes>"
            ]
          },
          "metadata": {
            "needs_background": "light"
          }
        }
      ]
    },
    {
      "cell_type": "code",
      "metadata": {
        "colab": {
          "base_uri": "https://localhost:8080/",
          "height": 265
        },
        "id": "caNXBhkRNEs2",
        "outputId": "d63a8187-9989-42ad-90d3-d21ddc003c96"
      },
      "source": [
        "# for k, (i,j) in enumerate(zip(pca_df[:, 0], pca_df[:, 1])):\n",
        "#     plt.scatter(i, j)\n",
        "\n",
        "# Plotting first 2 principal components\n",
        "plt.scatter(pca_df[\"PC1\"], pca_df[\"PC2\"], c=channel)\n",
        "plt.show()"
      ],
      "execution_count": 8,
      "outputs": [
        {
          "output_type": "display_data",
          "data": {
            "image/png": "[encoded data removed]",
            "text/plain": [
              "<Figure size 432x288 with 1 Axes>"
            ]
          },
          "metadata": {
            "needs_background": "light"
          }
        }
      ]
    },
    {
      "cell_type": "markdown",
      "metadata": {
        "id": "V0Cqomm1Cc-g"
      },
      "source": [
        "## K-Means, but Without All the Supervision\n",
        " \n",
        "\n",
        "**_Challenge:_** Use K-Means clustering on the `wholesale_customers` dataset, and then again on a version of this dataset transformed by PCA.  \n",
        "\n",
        "1. ✅ Read in the data from the `wholesale_customers_data.csv` file contained within the datasets folder.  \n",
        "\n",
        "2. ✅ Store the `Channel` column in a separate variable, and then drop the `Region` and `Channel` columns from the dataframe.  `Channel` will act as our labels to tell us what class of customer each datapoint actually is, in case we want to check the accuracy of our clustering.  \n",
        "\n",
        "3.  ✅ Scale the data, fit a k-means object to it, and then visualize the data and the clustering.  \n",
        "\n",
        "4.  Use PCA to transform the data, and then use k-means clustering on it to see if our results are any better.  \n",
        "\n",
        "**Challenge:_** Use the confusion matrix function to create a confusion matrix and see how accurate our clustering algorithms were.  Which did better--scaled data, or data transformed by PCA?\n",
        "\n"
      ]
    },
    {
      "cell_type": "code",
      "metadata": {
        "colab": {
          "base_uri": "https://localhost:8080/",
          "height": 265
        },
        "id": "WbdYPPxeR1Ez",
        "outputId": "0a7fb5f3-02db-4d1a-ddee-91ce87a48749"
      },
      "source": [
        "# Use the elbow method to find the optimal number of clusters\n",
        "\n",
        "sum_sq_dist = []\n",
        "K = range(1, 20)\n",
        "\n",
        "for k in K:\n",
        "  km = KMeans(n_clusters=k)\n",
        "  km = km.fit(scaled_df)\n",
        "  sum_sq_dist.append(km.inertia_)\n",
        "\n",
        "# plot the results\n",
        "plt.plot(K, sum_sq_dist, 'bx-')\n",
        "plt.show()"
      ],
      "execution_count": 9,
      "outputs": [
        {
          "output_type": "display_data",
          "data": {
            "image/png": "[encoded data removed]",
            "text/plain": [
              "<Figure size 432x288 with 1 Axes>"
            ]
          },
          "metadata": {
            "needs_background": "light"
          }
        }
      ]
    },
    {
      "cell_type": "code",
      "metadata": {
        "colab": {
          "base_uri": "https://localhost:8080/"
        },
        "id": "5lggu3ESSISU",
        "outputId": "75bcaf90-e3b5-4ede-df1d-4b5b9c11b63b"
      },
      "source": [
        "# Based on the graph above it looks like the optimal value for K is 5\n",
        "\n",
        "# Create a KMeans object with 5 clusters and fit it to the scaled data frame\n",
        "kmeans = KMeans(n_clusters=5)\n",
        "kmeans = kmeans.fit(scaled_df)\n",
        "\n",
        "clusters = kmeans.cluster_centers_\n",
        "clusters"
      ],
      "execution_count": 10,
      "outputs": [
        {
          "output_type": "execute_result",
          "data": {
            "text/plain": [
              "array([[-2.28369329e-01, -3.85499651e-01, -4.38823212e-01,\n",
              "        -1.63984209e-01, -3.99561186e-01, -1.94725095e-01],\n",
              "       [-4.96792765e-01,  6.81776069e-01,  9.04282645e-01,\n",
              "        -3.32699976e-01,  9.00464828e-01,  1.01942039e-01],\n",
              "       [ 1.96681731e+00,  5.17550306e+00,  1.28721685e+00,\n",
              "         6.90059988e+00, -5.54861977e-01,  1.64784475e+01],\n",
              "       [ 3.13830315e-01,  3.92190593e+00,  4.27561037e+00,\n",
              "        -3.57419457e-03,  4.61816580e+00,  5.03365339e-01],\n",
              "       [ 1.65897027e+00, -1.08371983e-01, -2.17703067e-01,\n",
              "         1.10347289e+00, -4.04601989e-01,  3.33024950e-01]])"
            ]
          },
          "metadata": {},
          "execution_count": 10
        }
      ]
    },
    {
      "cell_type": "code",
      "metadata": {
        "id": "XCl7ZcdWsRnc"
      },
      "source": [
        "y_km = kmeans.fit_predict(pca_data)"
      ],
      "execution_count": 11,
      "outputs": []
    },
    {
      "cell_type": "code",
      "metadata": {
        "colab": {
          "base_uri": "https://localhost:8080/",
          "height": 265
        },
        "id": "bCxzq6H4sfBL",
        "outputId": "e0910ad9-b789-4237-ae30-12665436d79d"
      },
      "source": [
        "# Plot clusters\n",
        "plt.scatter(pca_data[y_km == 0,0], pca_data[y_km == 0,1], s=50, color='red')\n",
        "plt.scatter(pca_data[y_km == 1,0], pca_data[y_km == 1,1], s=50, color='blue')\n",
        "plt.scatter(pca_data[y_km == 2,0], pca_data[y_km == 2,1], s=50, color='yellow')\n",
        "plt.scatter(pca_data[y_km == 3,0], pca_data[y_km == 3,1], s=50, color='cyan')\n",
        "plt.scatter(pca_data[y_km == 4,0], pca_data[y_km == 4,1], s=50, color='green')\n",
        "\n",
        "plt.show()"
      ],
      "execution_count": 12,
      "outputs": [
        {
          "output_type": "display_data",
          "data": {
            "image/png": "[encoded data removed]",
            "text/plain": [
              "<Figure size 432x288 with 1 Axes>"
            ]
          },
          "metadata": {
            "needs_background": "light"
          }
        }
      ]
    },
    {
      "cell_type": "code",
      "metadata": {
        "colab": {
          "base_uri": "https://localhost:8080/"
        },
        "id": "M1IJ9OsTtSDj",
        "outputId": "70e80b1e-0a19-4a15-e328-1fdd495e0bd4"
      },
      "source": [
        "# Visualize confusion matrix\n",
        "confusion_matrix(y_km, channel)"
      ],
      "execution_count": 13,
      "outputs": [
        {
          "output_type": "execute_result",
          "data": {
            "text/plain": [
              "array([[  0, 233,  37,   0,   0],\n",
              "       [  0,  55,   8,   0,   0],\n",
              "       [  0,   0,  10,   0,   0],\n",
              "       [  0,   1,   0,   0,   0],\n",
              "       [  0,   9,  87,   0,   0]])"
            ]
          },
          "metadata": {},
          "execution_count": 13
        }
      ]
    }
  ]
}