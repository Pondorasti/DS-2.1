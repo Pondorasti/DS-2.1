{
  "nbformat": 4,
  "nbformat_minor": 0,
  "metadata": {
    "kernelspec": {
      "display_name": "Python 3",
      "language": "python",
      "name": "python3"
    },
    "language_info": {
      "codemirror_mode": {
        "name": "ipython",
        "version": 3
      },
      "file_extension": ".py",
      "mimetype": "text/x-python",
      "name": "python",
      "nbconvert_exporter": "python",
      "pygments_lexer": "ipython3",
      "version": "3.6.5"
    },
    "colab": {
      "name": "PCA & KMeans (Wholesale Customer).ipynb",
      "provenance": [],
      "include_colab_link": true
    }
  },
  "cells": [
    {
      "cell_type": "markdown",
      "metadata": {
        "id": "view-in-github",
        "colab_type": "text"
      },
      "source": [
        "<a href=\"https://colab.research.google.com/github/Pondorasti/DS-2.1/blob/main/Class%20Work/PCA_%26_KMeans%20(Wholesale_Customer).ipynb\" target=\"_parent\"><img src=\"https://colab.research.google.com/assets/colab-badge.svg\" alt=\"Open In Colab\"/></a>"
      ]
    },
    {
      "cell_type": "markdown",
      "metadata": {
        "id": "pSI84CluCc-e"
      },
      "source": [
        "## Apply PCA and Clustering to Wholesale Customer Data\n",
        "\n",
        "In this homework, we'll examine the [**_Wholesale Customers Dataset_**](https://archive.ics.uci.edu/ml/datasets/Wholesale+customers), which we'll get from the UCI Machine Learning Datasets repository.  This dataset contains the purchase records from clients of a wholesale distributor.  It details the total annual purchases across categories seen in the data dictionary below:\n",
        "\n",
        "**Category** | **Description** \n",
        ":-----:|:-----:\n",
        "CHANNEL| 1= Hotel/Restaurant/Cafe, 2=Retailer (Nominal)\n",
        "REGION| Geographic region of Portugal for each order (Nominal)\n",
        "FRESH| Annual spending (m.u.) on fresh products (Continuous);\n",
        "MILK| Annual spending (m.u.) on milk products (Continuous); \n",
        "GROCERY| Annual spending (m.u.)on grocery products (Continuous); \n",
        "FROZEN| Annual spending (m.u.)on frozen products (Continuous) \n",
        "DETERGENTS\\_PAPER| Annual spending (m.u.) on detergents and paper products (Continuous) \n",
        "DELICATESSEN| Annual spending (m.u.)on and delicatessen products (Continuous); \n",
        "\n",
        "**_TASK:_** Read in `wholesale_customers_data.csv` from the `datasets` folder and store in a dataframe.  Store the `Channel` column in a separate variable, and then drop the `Channel` and `Region` columns from the dataframe. Scale the data and use PCA to engineer new features (Principal Components).  Print out the explained variance for each principal component. "
      ]
    },
    {
      "cell_type": "code",
      "metadata": {
        "id": "7Mh_R8N-Cc-h"
      },
      "source": [
        "import numpy as np\n",
        "import pandas as pd\n",
        "import matplotlib.pyplot as plt\n",
        "from sklearn.cluster import KMeans\n",
        "from sklearn.decomposition import PCA\n",
        "from sklearn.preprocessing import StandardScaler\n",
        "from sklearn.metrics import confusion_matrix"
      ],
      "execution_count": 29,
      "outputs": []
    },
    {
      "cell_type": "code",
      "metadata": {
        "colab": {
          "base_uri": "https://localhost:8080/",
          "height": 424
        },
        "id": "3RhOWsm0skXB",
        "outputId": "0d585b2d-1b57-41e3-c6fd-52a9b35c8a3d"
      },
      "source": [
        "df = pd.read_csv(\"https://raw.githubusercontent.com/Pondorasti/DS-2.1/main/Datasets/Wholesale%20customers.csv\")\n",
        "df"
      ],
      "execution_count": 2,
      "outputs": [
        {
          "output_type": "execute_result",
          "data": {
            "text/html": [
              "<div>\n",
              "<style scoped>\n",
              "    .dataframe tbody tr th:only-of-type {\n",
              "        vertical-align: middle;\n",
              "    }\n",
              "\n",
              "    .dataframe tbody tr th {\n",
              "        vertical-align: top;\n",
              "    }\n",
              "\n",
              "    .dataframe thead th {\n",
              "        text-align: right;\n",
              "    }\n",
              "</style>\n",
              "<table border=\"1\" class=\"dataframe\">\n",
              "  <thead>\n",
              "    <tr style=\"text-align: right;\">\n",
              "      <th></th>\n",
              "      <th>Channel</th>\n",
              "      <th>Region</th>\n",
              "      <th>Fresh</th>\n",
              "      <th>Milk</th>\n",
              "      <th>Grocery</th>\n",
              "      <th>Frozen</th>\n",
              "      <th>Detergents_Paper</th>\n",
              "      <th>Delicassen</th>\n",
              "    </tr>\n",
              "  </thead>\n",
              "  <tbody>\n",
              "    <tr>\n",
              "      <th>0</th>\n",
              "      <td>2</td>\n",
              "      <td>3</td>\n",
              "      <td>12669</td>\n",
              "      <td>9656</td>\n",
              "      <td>7561</td>\n",
              "      <td>214</td>\n",
              "      <td>2674</td>\n",
              "      <td>1338</td>\n",
              "    </tr>\n",
              "    <tr>\n",
              "      <th>1</th>\n",
              "      <td>2</td>\n",
              "      <td>3</td>\n",
              "      <td>7057</td>\n",
              "      <td>9810</td>\n",
              "      <td>9568</td>\n",
              "      <td>1762</td>\n",
              "      <td>3293</td>\n",
              "      <td>1776</td>\n",
              "    </tr>\n",
              "    <tr>\n",
              "      <th>2</th>\n",
              "      <td>2</td>\n",
              "      <td>3</td>\n",
              "      <td>6353</td>\n",
              "      <td>8808</td>\n",
              "      <td>7684</td>\n",
              "      <td>2405</td>\n",
              "      <td>3516</td>\n",
              "      <td>7844</td>\n",
              "    </tr>\n",
              "    <tr>\n",
              "      <th>3</th>\n",
              "      <td>1</td>\n",
              "      <td>3</td>\n",
              "      <td>13265</td>\n",
              "      <td>1196</td>\n",
              "      <td>4221</td>\n",
              "      <td>6404</td>\n",
              "      <td>507</td>\n",
              "      <td>1788</td>\n",
              "    </tr>\n",
              "    <tr>\n",
              "      <th>4</th>\n",
              "      <td>2</td>\n",
              "      <td>3</td>\n",
              "      <td>22615</td>\n",
              "      <td>5410</td>\n",
              "      <td>7198</td>\n",
              "      <td>3915</td>\n",
              "      <td>1777</td>\n",
              "      <td>5185</td>\n",
              "    </tr>\n",
              "    <tr>\n",
              "      <th>...</th>\n",
              "      <td>...</td>\n",
              "      <td>...</td>\n",
              "      <td>...</td>\n",
              "      <td>...</td>\n",
              "      <td>...</td>\n",
              "      <td>...</td>\n",
              "      <td>...</td>\n",
              "      <td>...</td>\n",
              "    </tr>\n",
              "    <tr>\n",
              "      <th>435</th>\n",
              "      <td>1</td>\n",
              "      <td>3</td>\n",
              "      <td>29703</td>\n",
              "      <td>12051</td>\n",
              "      <td>16027</td>\n",
              "      <td>13135</td>\n",
              "      <td>182</td>\n",
              "      <td>2204</td>\n",
              "    </tr>\n",
              "    <tr>\n",
              "      <th>436</th>\n",
              "      <td>1</td>\n",
              "      <td>3</td>\n",
              "      <td>39228</td>\n",
              "      <td>1431</td>\n",
              "      <td>764</td>\n",
              "      <td>4510</td>\n",
              "      <td>93</td>\n",
              "      <td>2346</td>\n",
              "    </tr>\n",
              "    <tr>\n",
              "      <th>437</th>\n",
              "      <td>2</td>\n",
              "      <td>3</td>\n",
              "      <td>14531</td>\n",
              "      <td>15488</td>\n",
              "      <td>30243</td>\n",
              "      <td>437</td>\n",
              "      <td>14841</td>\n",
              "      <td>1867</td>\n",
              "    </tr>\n",
              "    <tr>\n",
              "      <th>438</th>\n",
              "      <td>1</td>\n",
              "      <td>3</td>\n",
              "      <td>10290</td>\n",
              "      <td>1981</td>\n",
              "      <td>2232</td>\n",
              "      <td>1038</td>\n",
              "      <td>168</td>\n",
              "      <td>2125</td>\n",
              "    </tr>\n",
              "    <tr>\n",
              "      <th>439</th>\n",
              "      <td>1</td>\n",
              "      <td>3</td>\n",
              "      <td>2787</td>\n",
              "      <td>1698</td>\n",
              "      <td>2510</td>\n",
              "      <td>65</td>\n",
              "      <td>477</td>\n",
              "      <td>52</td>\n",
              "    </tr>\n",
              "  </tbody>\n",
              "</table>\n",
              "<p>440 rows × 8 columns</p>\n",
              "</div>"
            ],
            "text/plain": [
              "     Channel  Region  Fresh  ...  Frozen  Detergents_Paper  Delicassen\n",
              "0          2       3  12669  ...     214              2674        1338\n",
              "1          2       3   7057  ...    1762              3293        1776\n",
              "2          2       3   6353  ...    2405              3516        7844\n",
              "3          1       3  13265  ...    6404               507        1788\n",
              "4          2       3  22615  ...    3915              1777        5185\n",
              "..       ...     ...    ...  ...     ...               ...         ...\n",
              "435        1       3  29703  ...   13135               182        2204\n",
              "436        1       3  39228  ...    4510                93        2346\n",
              "437        2       3  14531  ...     437             14841        1867\n",
              "438        1       3  10290  ...    1038               168        2125\n",
              "439        1       3   2787  ...      65               477          52\n",
              "\n",
              "[440 rows x 8 columns]"
            ]
          },
          "metadata": {},
          "execution_count": 2
        }
      ]
    },
    {
      "cell_type": "code",
      "metadata": {
        "colab": {
          "base_uri": "https://localhost:8080/"
        },
        "id": "3hTM20Jhs_cT",
        "outputId": "cfced3c8-c4f0-4075-b487-e5074b95eadb"
      },
      "source": [
        "channel = df[\"Channel\"]\n",
        "region = df[\"Region\"]\n",
        "df = df.drop(columns=[\"Channel\", \"Region\"])\n",
        "channel"
      ],
      "execution_count": 3,
      "outputs": [
        {
          "output_type": "execute_result",
          "data": {
            "text/plain": [
              "0      2\n",
              "1      2\n",
              "2      2\n",
              "3      1\n",
              "4      2\n",
              "      ..\n",
              "435    1\n",
              "436    1\n",
              "437    2\n",
              "438    1\n",
              "439    1\n",
              "Name: Channel, Length: 440, dtype: int64"
            ]
          },
          "metadata": {},
          "execution_count": 3
        }
      ]
    },
    {
      "cell_type": "code",
      "metadata": {
        "colab": {
          "base_uri": "https://localhost:8080/"
        },
        "id": "0Jv0KxsMJUWk",
        "outputId": "5f79d1ba-7f97-4ada-c9bf-c263fed74c82"
      },
      "source": [
        "scaler = StandardScaler()\n",
        "scaled_df = scaler.fit_transform(df)\n",
        "scaled_df"
      ],
      "execution_count": 18,
      "outputs": [
        {
          "output_type": "execute_result",
          "data": {
            "text/plain": [
              "array([[ 0.05293319,  0.52356777, -0.04111489, -0.58936716, -0.04356873,\n",
              "        -0.06633906],\n",
              "       [-0.39130197,  0.54445767,  0.17031835, -0.27013618,  0.08640684,\n",
              "         0.08915105],\n",
              "       [-0.44702926,  0.40853771, -0.0281571 , -0.13753572,  0.13323164,\n",
              "         2.24329255],\n",
              "       ...,\n",
              "       [ 0.20032554,  1.31467078,  2.34838631, -0.54337975,  2.51121768,\n",
              "         0.12145607],\n",
              "       [-0.13538389, -0.51753572, -0.60251388, -0.41944059, -0.56977032,\n",
              "         0.21304614],\n",
              "       [-0.72930698, -0.5559243 , -0.57322717, -0.62009417, -0.50488752,\n",
              "        -0.52286938]])"
            ]
          },
          "metadata": {},
          "execution_count": 18
        }
      ]
    },
    {
      "cell_type": "code",
      "metadata": {
        "colab": {
          "base_uri": "https://localhost:8080/",
          "height": 424
        },
        "id": "T_goCL9DqfMw",
        "outputId": "3fc29990-1bb7-4e29-ca60-2b1baa5d292a"
      },
      "source": [
        "pca = PCA()\n",
        "pca_data = pca.fit_transform(scaled_df)\n",
        "\n",
        "percentage_variance = np.round(pca.explained_variance_ratio_ * 100, decimals=1)\n",
        "pc_range = range(1, len(percentage_variance) + 1)\n",
        "labels = [\"PC\" + str(x) for x in pc_range]\n",
        "\n",
        "pca_df = pd.DataFrame(pca_data, columns=labels)\n",
        "\n",
        "pca_df"
      ],
      "execution_count": 20,
      "outputs": [
        {
          "output_type": "execute_result",
          "data": {
            "text/html": [
              "<div>\n",
              "<style scoped>\n",
              "    .dataframe tbody tr th:only-of-type {\n",
              "        vertical-align: middle;\n",
              "    }\n",
              "\n",
              "    .dataframe tbody tr th {\n",
              "        vertical-align: top;\n",
              "    }\n",
              "\n",
              "    .dataframe thead th {\n",
              "        text-align: right;\n",
              "    }\n",
              "</style>\n",
              "<table border=\"1\" class=\"dataframe\">\n",
              "  <thead>\n",
              "    <tr style=\"text-align: right;\">\n",
              "      <th></th>\n",
              "      <th>PC1</th>\n",
              "      <th>PC2</th>\n",
              "      <th>PC3</th>\n",
              "      <th>PC4</th>\n",
              "      <th>PC5</th>\n",
              "      <th>PC6</th>\n",
              "    </tr>\n",
              "  </thead>\n",
              "  <tbody>\n",
              "    <tr>\n",
              "      <th>0</th>\n",
              "      <td>0.193291</td>\n",
              "      <td>-0.305100</td>\n",
              "      <td>-0.140878</td>\n",
              "      <td>-0.486432</td>\n",
              "      <td>0.495281</td>\n",
              "      <td>-0.007414</td>\n",
              "    </tr>\n",
              "    <tr>\n",
              "      <th>1</th>\n",
              "      <td>0.434420</td>\n",
              "      <td>-0.328413</td>\n",
              "      <td>0.319007</td>\n",
              "      <td>-0.178830</td>\n",
              "      <td>0.365579</td>\n",
              "      <td>0.054572</td>\n",
              "    </tr>\n",
              "    <tr>\n",
              "      <th>2</th>\n",
              "      <td>0.811143</td>\n",
              "      <td>0.815096</td>\n",
              "      <td>1.523416</td>\n",
              "      <td>-1.254082</td>\n",
              "      <td>-0.379054</td>\n",
              "      <td>-0.277539</td>\n",
              "    </tr>\n",
              "    <tr>\n",
              "      <th>3</th>\n",
              "      <td>-0.778648</td>\n",
              "      <td>0.652754</td>\n",
              "      <td>0.163012</td>\n",
              "      <td>0.380060</td>\n",
              "      <td>-0.276138</td>\n",
              "      <td>0.060718</td>\n",
              "    </tr>\n",
              "    <tr>\n",
              "      <th>4</th>\n",
              "      <td>0.166287</td>\n",
              "      <td>1.271434</td>\n",
              "      <td>0.066279</td>\n",
              "      <td>-0.826227</td>\n",
              "      <td>-0.394211</td>\n",
              "      <td>-0.026825</td>\n",
              "    </tr>\n",
              "    <tr>\n",
              "      <th>...</th>\n",
              "      <td>...</td>\n",
              "      <td>...</td>\n",
              "      <td>...</td>\n",
              "      <td>...</td>\n",
              "      <td>...</td>\n",
              "      <td>...</td>\n",
              "    </tr>\n",
              "    <tr>\n",
              "      <th>435</th>\n",
              "      <td>0.870602</td>\n",
              "      <td>2.220845</td>\n",
              "      <td>-0.605500</td>\n",
              "      <td>1.049263</td>\n",
              "      <td>0.423781</td>\n",
              "      <td>0.869495</td>\n",
              "    </tr>\n",
              "    <tr>\n",
              "      <th>436</th>\n",
              "      <td>-0.902520</td>\n",
              "      <td>1.676916</td>\n",
              "      <td>-1.418980</td>\n",
              "      <td>-0.572274</td>\n",
              "      <td>-0.257026</td>\n",
              "      <td>-0.226535</td>\n",
              "    </tr>\n",
              "    <tr>\n",
              "      <th>437</th>\n",
              "      <td>3.465704</td>\n",
              "      <td>-1.039838</td>\n",
              "      <td>-0.713161</td>\n",
              "      <td>0.033408</td>\n",
              "      <td>-0.538768</td>\n",
              "      <td>-0.085349</td>\n",
              "    </tr>\n",
              "    <tr>\n",
              "      <th>438</th>\n",
              "      <td>-0.918023</td>\n",
              "      <td>-0.030047</td>\n",
              "      <td>0.258408</td>\n",
              "      <td>-0.524578</td>\n",
              "      <td>-0.093215</td>\n",
              "      <td>-0.028943</td>\n",
              "    </tr>\n",
              "    <tr>\n",
              "      <th>439</th>\n",
              "      <td>-1.105137</td>\n",
              "      <td>-0.861338</td>\n",
              "      <td>0.305154</td>\n",
              "      <td>-0.114377</td>\n",
              "      <td>0.109903</td>\n",
              "      <td>0.028978</td>\n",
              "    </tr>\n",
              "  </tbody>\n",
              "</table>\n",
              "<p>440 rows × 6 columns</p>\n",
              "</div>"
            ],
            "text/plain": [
              "          PC1       PC2       PC3       PC4       PC5       PC6\n",
              "0    0.193291 -0.305100 -0.140878 -0.486432  0.495281 -0.007414\n",
              "1    0.434420 -0.328413  0.319007 -0.178830  0.365579  0.054572\n",
              "2    0.811143  0.815096  1.523416 -1.254082 -0.379054 -0.277539\n",
              "3   -0.778648  0.652754  0.163012  0.380060 -0.276138  0.060718\n",
              "4    0.166287  1.271434  0.066279 -0.826227 -0.394211 -0.026825\n",
              "..        ...       ...       ...       ...       ...       ...\n",
              "435  0.870602  2.220845 -0.605500  1.049263  0.423781  0.869495\n",
              "436 -0.902520  1.676916 -1.418980 -0.572274 -0.257026 -0.226535\n",
              "437  3.465704 -1.039838 -0.713161  0.033408 -0.538768 -0.085349\n",
              "438 -0.918023 -0.030047  0.258408 -0.524578 -0.093215 -0.028943\n",
              "439 -1.105137 -0.861338  0.305154 -0.114377  0.109903  0.028978\n",
              "\n",
              "[440 rows x 6 columns]"
            ]
          },
          "metadata": {},
          "execution_count": 20
        }
      ]
    },
    {
      "cell_type": "code",
      "metadata": {
        "id": "pBeFoCl5MrdS",
        "colab": {
          "base_uri": "https://localhost:8080/",
          "height": 295
        },
        "outputId": "2958c6d8-3540-4c45-cb94-ebd8a724949a"
      },
      "source": [
        "plt.bar(x=pc_range, height=percentage_variance, tick_label=labels)\n",
        "plt.ylabel(\"Percentage of Explained Variance\")\n",
        "plt.xlabel(\"Principal Component\")\n",
        "plt.title(\"Scree Plot\")\n",
        "plt.show()"
      ],
      "execution_count": 21,
      "outputs": [
        {
          "output_type": "display_data",
          "data": {
            "image/png": "[encoded data removed]",
            "text/plain": [
              "<Figure size 432x288 with 1 Axes>"
            ]
          },
          "metadata": {
            "needs_background": "light"
          }
        }
      ]
    },
    {
      "cell_type": "code",
      "metadata": {
        "colab": {
          "base_uri": "https://localhost:8080/",
          "height": 265
        },
        "id": "caNXBhkRNEs2",
        "outputId": "35237ff5-4d71-4bed-c7d6-3db61e933b60"
      },
      "source": [
        "# for k, (i,j) in enumerate(zip(pca_df[:, 0], pca_df[:, 1])):\n",
        "#     plt.scatter(i, j)\n",
        "\n",
        "plt.scatter(pca_df[\"PC1\"], pca_df[\"PC2\"], c=channel)\n",
        "plt.show()"
      ],
      "execution_count": 23,
      "outputs": [
        {
          "output_type": "display_data",
          "data": {
            "image/png": "[encoded data removed]",
            "text/plain": [
              "<Figure size 432x288 with 1 Axes>"
            ]
          },
          "metadata": {
            "needs_background": "light"
          }
        }
      ]
    },
    {
      "cell_type": "markdown",
      "metadata": {
        "id": "V0Cqomm1Cc-g"
      },
      "source": [
        "## K-Means, but Without All the Supervision\n",
        " \n",
        "\n",
        "**_Challenge:_** Use K-Means clustering on the `wholesale_customers` dataset, and then again on a version of this dataset transformed by PCA.  \n",
        "\n",
        "1. Read in the data from the `wholesale_customers_data.csv` file contained within the datasets folder.  \n",
        "\n",
        "2. Store the `Channel` column in a separate variable, and then drop the `Region` and `Channel` columns from the dataframe.  `Channel` will act as our labels to tell us what class of customer each datapoint actually is, in case we want to check the accuracy of our clustering.  \n",
        "\n",
        "3.  Scale the data, fit a k-means object to it, and then visualize the data and the clustering.  \n",
        "\n",
        "4.  Use PCA to transform the data, and then use k-means clustering on it to see if our results are any better.  \n",
        "\n",
        "**Challenge:_** Use the confusion matrix function to create a confusion matrix and see how accurate our clustering algorithms were.  Which did better--scaled data, or data transformed by PCA?\n",
        "\n"
      ]
    },
    {
      "cell_type": "code",
      "metadata": {
        "colab": {
          "base_uri": "https://localhost:8080/",
          "height": 265
        },
        "id": "WbdYPPxeR1Ez",
        "outputId": "c17c30b2-434b-440f-c47c-a70115df36c7"
      },
      "source": [
        "sum_sq_dist = []\n",
        "K = range(1, 20)\n",
        "\n",
        "for k in K:\n",
        "  km = KMeans(n_clusters=k)\n",
        "  km = km.fit(scaled_df)\n",
        "  sum_sq_dist.append(km.inertia_)\n",
        "\n",
        "plt.plot(K, sum_sq_dist, 'bx-')\n",
        "plt.show()"
      ],
      "execution_count": 26,
      "outputs": [
        {
          "output_type": "display_data",
          "data": {
            "image/png": "[encoded data removed]",
            "text/plain": [
              "<Figure size 432x288 with 1 Axes>"
            ]
          },
          "metadata": {
            "needs_background": "light"
          }
        }
      ]
    },
    {
      "cell_type": "code",
      "metadata": {
        "colab": {
          "base_uri": "https://localhost:8080/"
        },
        "id": "5lggu3ESSISU",
        "outputId": "994edde8-0115-455e-d74a-0ddfb04cdb1f"
      },
      "source": [
        "kmeans = KMeans(n_clusters=5)\n",
        "kmeans = kmeans.fit(scaled_df)\n",
        "\n",
        "clusters = kmeans.cluster_centers_\n",
        "clusters"
      ],
      "execution_count": 32,
      "outputs": [
        {
          "output_type": "execute_result",
          "data": {
            "text/plain": [
              "array([[-4.79916970e-01,  6.81814657e-01,  9.22793207e-01,\n",
              "        -3.21811868e-01,  9.07245100e-01,  1.54326877e-01],\n",
              "       [ 1.67032632e+00, -1.07977956e-01, -2.49633515e-01,\n",
              "         1.09385904e+00, -4.17830521e-01,  2.58987677e-01],\n",
              "       [ 1.96681731e+00,  5.17550306e+00,  1.28721685e+00,\n",
              "         6.90059988e+00, -5.54861977e-01,  1.64784475e+01],\n",
              "       [ 3.13830315e-01,  3.92190593e+00,  4.27561037e+00,\n",
              "        -3.57419457e-03,  4.61816580e+00,  5.03365339e-01],\n",
              "       [-2.38013516e-01, -3.81652438e-01, -4.32979840e-01,\n",
              "        -1.66237178e-01, -3.94070381e-01, -1.94976684e-01]])"
            ]
          },
          "metadata": {},
          "execution_count": 32
        }
      ]
    },
    {
      "cell_type": "code",
      "metadata": {
        "id": "XCl7ZcdWsRnc"
      },
      "source": [
        "y_km = kmeans.fit_predict(pca_data)"
      ],
      "execution_count": 40,
      "outputs": []
    },
    {
      "cell_type": "code",
      "metadata": {
        "colab": {
          "base_uri": "https://localhost:8080/",
          "height": 265
        },
        "id": "bCxzq6H4sfBL",
        "outputId": "878ba495-c48c-4433-cc67-e319c9edaaeb"
      },
      "source": [
        "plt.scatter(pca_data[y_km == 0,0], pca_data[y_km == 0,1], s=50, color='red')\n",
        "plt.scatter(pca_data[y_km == 1,0], pca_data[y_km == 1,1], s=50, color='blue')\n",
        "plt.scatter(pca_data[y_km == 2,0], pca_data[y_km == 2,1], s=50, color='yellow')\n",
        "plt.scatter(pca_data[y_km == 3,0], pca_data[y_km == 3,1], s=50, color='cyan')\n",
        "plt.scatter(pca_data[y_km == 4,0], pca_data[y_km == 4,1], s=50, color='green')\n",
        "\n",
        "plt.show()"
      ],
      "execution_count": 43,
      "outputs": [
        {
          "output_type": "display_data",
          "data": {
            "image/png": "[encoded data removed]",
            "text/plain": [
              "<Figure size 432x288 with 1 Axes>"
            ]
          },
          "metadata": {
            "needs_background": "light"
          }
        }
      ]
    },
    {
      "cell_type": "code",
      "metadata": {
        "colab": {
          "base_uri": "https://localhost:8080/"
        },
        "id": "M1IJ9OsTtSDj",
        "outputId": "cb777b47-e280-4e16-f2a1-391b0cf20f22"
      },
      "source": [
        "confusion_matrix(y_km, channel)"
      ],
      "execution_count": 44,
      "outputs": [
        {
          "output_type": "execute_result",
          "data": {
            "text/plain": [
              "array([[  0,  55,   8,   0,   0],\n",
              "       [  0,   0,  10,   0,   0],\n",
              "       [  0,   9,  87,   0,   0],\n",
              "       [  0,   1,   0,   0,   0],\n",
              "       [  0, 233,  37,   0,   0]])"
            ]
          },
          "metadata": {},
          "execution_count": 44
        }
      ]
    }
  ]
}