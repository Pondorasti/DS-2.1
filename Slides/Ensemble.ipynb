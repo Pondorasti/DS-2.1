{
  "nbformat": 4,
  "nbformat_minor": 0,
  "metadata": {
    "kernelspec": {
      "display_name": "Python 3",
      "language": "python",
      "name": "python3"
    },
    "language_info": {
      "codemirror_mode": {
        "name": "ipython",
        "version": 3
      },
      "file_extension": ".py",
      "mimetype": "text/x-python",
      "name": "python",
      "nbconvert_exporter": "python",
      "pygments_lexer": "ipython3",
      "version": "3.7.5"
    },
    "colab": {
      "name": "Ensemble.ipynb",
      "provenance": [],
      "include_colab_link": true
    }
  },
  "cells": [
    {
      "cell_type": "markdown",
      "metadata": {
        "id": "view-in-github",
        "colab_type": "text"
      },
      "source": [
        "<a href=\"https://colab.research.google.com/github/Pondorasti/DS-2.1/blob/main/Slides/Ensemble.ipynb\" target=\"_parent\"><img src=\"https://colab.research.google.com/assets/colab-badge.svg\" alt=\"Open In Colab\"/></a>"
      ]
    },
    {
      "cell_type": "markdown",
      "metadata": {
        "id": "rueygHc_YFrD"
      },
      "source": [
        "<img src=\"Images/ens_slide_1.png\" width=\"700\" height=\"700\">\n",
        "\n",
        "<img src=\"Images/ens_slide_2.png\" width=\"700\" height=\"700\">"
      ]
    },
    {
      "cell_type": "markdown",
      "metadata": {
        "id": "TnbsYqlMYFrF"
      },
      "source": [
        "## Ensemble Methods \n",
        "\n",
        "Ensemble Methods are machine learning algorithms that rely on the \"Wisdom of the Crowd\"\n",
        "\n",
        "Many weak algorithms working together do better than 1 big, monolithic algorithm\n",
        "\n",
        "They are two major groups for ensemble methods: **Random Forests** and **Gradient Boosted Trees**"
      ]
    },
    {
      "cell_type": "markdown",
      "metadata": {
        "id": "ALb0pZ7LYFrF"
      },
      "source": [
        "## Random Forest\n",
        "\n",
        "Random Forest is a name for a type of supervised learning\n",
        "\n",
        "***Random Forest*** is just a collection of many small ***Decision Trees***\n",
        "\n",
        "Assume we have a dataset with 10 columns, and thousands of rows. The Random forest algorithm would start by randomly selecting around 2/3 of the rows, and then randomly selecting 6 columns in the data \n",
        "\n",
        "<img src=\"Images/random_forest.png\" width=\"400\" height=\"400\">"
      ]
    },
    {
      "cell_type": "markdown",
      "metadata": {
        "id": "2fW-egm2YFrG"
      },
      "source": [
        "### Activity: Apply Random Forest to iris dataset \n",
        "\n",
        "Read : https://www.datacamp.com/community/tutorials/random-forests-classifier-python\n",
        "\n",
        "Finish the turorial on your own, and then answer the following questions:\n",
        "\n",
        "- What was the feature importance as described in the tutorial: `clf.feature_importances_`\n",
        "\n",
        "- Change number of estimator (`n_estimators`) and compare the accuracy result"
      ]
    },
    {
      "cell_type": "markdown",
      "metadata": {
        "id": "n-K_lKM4YFrH"
      },
      "source": [
        "## Gradient Boosting\n",
        "\n",
        "In boosting, the trees are built sequentially such that each subsequent tree aims to reduce the errors of the previous tree\n",
        "\n",
        "The tree that grows next in the sequence **will learn from an updated version of the residuals**\n",
        "\n",
        "- Residuals: The differences between observed and predicted values of data.\n"
      ]
    },
    {
      "cell_type": "markdown",
      "metadata": {
        "id": "HL7KCiJrYFrH"
      },
      "source": [
        "## Activity: We want to build a model for a prediction problem with Boosting method\n",
        "\n",
        "- Consider the following data, where the years of experience is predictor variable (feature) and salary (in thousand dollars) is the target\n",
        "\n",
        "<img src=\"Images/dataset_boosting.png\" width=\"150\" height=\"150\">\n",
        "\n",
        "- Using regression trees as base learners, we can create a model to predict the salary\n",
        "\n",
        "- As the first step, obtain the mean value of target: `F0 = np.mean(Y)` \n",
        "\n",
        "- Now build the simplest decision tree regressor with the Feature as `X` and `Y-F0` as the target: Below is the code"
      ]
    },
    {
      "cell_type": "code",
      "metadata": {
        "colab": {
          "base_uri": "https://localhost:8080/"
        },
        "id": "ddmYQoF-YFrI",
        "outputId": "e960fe63-77ca-49f3-ddc6-740a4d335970"
      },
      "source": [
        "from sklearn.tree import DecisionTreeRegressor\n",
        "import numpy as np\n",
        "from sklearn.tree import export_graphviz\n",
        "import pydotplus\n",
        "\n",
        "# Feature, years of work experience\n",
        "X = np.array([5, 7, 12, 23, 25, 28, 29, 34, 35, 40])\n",
        "# Target, salary in in thousand dollars\n",
        "Y = np.array([82, 80, 103, 118, 172, 127, 204, 189, 99, 166])\n",
        "\n",
        "# Compute the mean of target and subtract from target\n",
        "F0 = np.mean(Y)\n",
        "print(F0)\n",
        "\n",
        "# Build and train the simple Regression Model with DT\n",
        "regre = DecisionTreeRegressor(max_depth=1)\n",
        "regre.fit(X.reshape(-1, 1), (Y-F0).reshape(-1, 1))\n",
        "\n",
        "\n",
        "# Draw graph\n",
        "dot_data = export_graphviz(regre, out_file=None)\n",
        "graph = pydotplus.graph_from_dot_data(dot_data)\n",
        "graph.write_png('simple_reg_tree_step1.png')"
      ],
      "execution_count": 1,
      "outputs": [
        {
          "output_type": "stream",
          "name": "stdout",
          "text": [
            "134.0\n"
          ]
        },
        {
          "output_type": "execute_result",
          "data": {
            "text/plain": [
              "True"
            ]
          },
          "metadata": {},
          "execution_count": 1
        }
      ]
    },
    {
      "cell_type": "markdown",
      "metadata": {
        "id": "x0gnfjNrYFrK"
      },
      "source": [
        "- As the second step: obtain `h1` as the output result of decision tree regressor with `X` as input : `F1 =F0 + h1` \n",
        "\n",
        "- As the third step: build another simple decision tree regressor with Salary as `X` and `Y-F1` as the target\n",
        "\n",
        "- Keep doing these steps we can predict salary, `Y` from years of experience `X` \n",
        "\n",
        "<img src=\"Images/visualization_boosting.png\" width=\"400\" height=\"400\">"
      ]
    },
    {
      "cell_type": "markdown",
      "metadata": {
        "id": "ZXUqW2yhYFrL"
      },
      "source": [
        "## Implementation of Boosting "
      ]
    },
    {
      "cell_type": "code",
      "metadata": {
        "colab": {
          "base_uri": "https://localhost:8080/",
          "height": 282
        },
        "id": "7Opbj5zKYFrM",
        "outputId": "17afcf99-60ad-4a12-d803-44b6ba3dfbec"
      },
      "source": [
        "# Iteratively predict Y from X using Boosting method\n",
        "\n",
        "from sklearn.tree import DecisionTreeRegressor\n",
        "import numpy as np\n",
        "import matplotlib.pyplot as plt\n",
        "\n",
        "# Feature, years of work experience\n",
        "X = np.array([5, 7, 12, 23, 25, 28, 29, 34, 35, 40])\n",
        "# Target, salary in in thousand dollars\n",
        "Y = np.array([82, 80, 103, 118, 172, 127, 204, 189, 99, 166])\n",
        "\n",
        "iteration = 3\n",
        "F = np.zeros((iteration+1, len(Y)))\n",
        "for i in range(iteration):\n",
        "    regre = DecisionTreeRegressor(max_depth=1)\n",
        "    if i == 0:\n",
        "        F[i] = np.mean(Y)\n",
        "    regre.fit(X.reshape(-1, 1), (Y-F[i]).reshape(-1, 1))\n",
        "    # h[i] = regre.predict(X.reshape(-1, 1)), we do not need to define separate variable for h\n",
        "    F[i+1] = F[i] + regre.predict(X.reshape(-1, 1))\n",
        "    \n",
        "    \n",
        "\n",
        "plt.plot(X, F[-1])\n",
        "plt.scatter(X, Y)"
      ],
      "execution_count": 2,
      "outputs": [
        {
          "output_type": "execute_result",
          "data": {
            "text/plain": [
              "<matplotlib.collections.PathCollection at 0x7ff43efaf050>"
            ]
          },
          "metadata": {},
          "execution_count": 2
        },
        {
          "output_type": "display_data",
          "data": {
            "image/png": "[encoded data removed]",
            "text/plain": [
              "<Figure size 432x288 with 1 Axes>"
            ]
          },
          "metadata": {
            "needs_background": "light"
          }
        }
      ]
    },
    {
      "cell_type": "markdown",
      "metadata": {
        "id": "pHyEYJAcYFrN"
      },
      "source": [
        "***Demonstrating the Potential of Boosting*** : https://www.analyticsvidhya.com/blog/2018/09/an-end-to-end-guide-to-understand-the-math-behind-xgboost/\n",
        "\n",
        "## Optional: Pseudocode of Boosting Algorithm:\n",
        "\n",
        "<img src=\"Images/boosting_algorithm.png\" width=\"600\" height=\"600\">"
      ]
    },
    {
      "cell_type": "markdown",
      "metadata": {
        "id": "s9tzz8XHYFrN"
      },
      "source": [
        "## Xgboost\n",
        "\n",
        "XGBoost is short for eXtreme Gradient Boosting. It is\n",
        "\n",
        "· An open-sourced tool\n",
        "\n",
        "    - Computation in C++\n",
        "    \n",
        "    - R/python/Julia interface provided\n",
        "    \n",
        "· A variant of the gradient boosting machine \n",
        "\n",
        "    - Tree-based model\n",
        "    \n",
        "· The winning model for several kaggle competitions\n",
        "\n",
        "Apply Xgboost to boston housing dataset (https://www.datacamp.com/community/tutorials/xgboost-in-python)\n",
        "\n",
        "Plot the feature importance"
      ]
    },
    {
      "cell_type": "markdown",
      "metadata": {
        "id": "P4ry7rY3YFrO"
      },
      "source": [
        "## Optional Reading: XGBoost's hyperparameters\n",
        "\n",
        "At this point, before building the model, you should be aware of the tuning parameters that XGBoost provides. Well, there are a plethora of tuning parameters for tree-based learners in XGBoost and you can read all about them here. But the most common ones that you should know are:\n",
        "\n",
        "***learning_rate***: step size shrinkage used to prevent overfitting. Range is [0,1]\n",
        "\n",
        "***max_depth***: determines how deeply each tree is allowed to grow during any boosting round.\n",
        "\n",
        "***subsample***: percentage of samples used per tree. Low value can lead to underfitting.\n",
        "\n",
        "***colsample_bytree***: percentage of features used per tree. High value can lead to overfitting.\n",
        "\n",
        "***n_estimators***: number of trees you want to build.\n",
        "\n",
        "***objective***: determines the loss function to be used like reg:linear for regression problems, reg:logistic for classification problems with only decision, binary:logistic for classification problems with probability."
      ]
    },
    {
      "cell_type": "markdown",
      "metadata": {
        "id": "F3LM1uT5YFrP"
      },
      "source": [
        "## Summary\n",
        "\n",
        "- Ensemble Methods are machine learning algorithms that rely on the \"Wisdom of the Crowd\"\n",
        "\n",
        "- Many weak algorithms working together do better than 1 big, monolithic algorithm\n",
        "\n",
        "- In boosting, each tree will learn from an updated version of the residuals\n",
        "\n",
        "- They are two major groups for ensemble methods:\n",
        "\n",
        "    - Random Forests \n",
        "    \n",
        "    - Gradient Boosted Trees\n",
        "\n",
        "- The Ensemble methods are able to obtain and rank the feature importance\n"
      ]
    },
    {
      "cell_type": "markdown",
      "metadata": {
        "id": "s14uAM6EYFrQ"
      },
      "source": [
        "## Resources:\n",
        "\n",
        "- https://www.datacamp.com/community/tutorials/random-forests-classifier-python\n",
        "    \n",
        "- https://www.analyticsvidhya.com/blog/2018/09/an-end-to-end-guide-to-understand-the-math-behind-xgboost/\n",
        "\n",
        "- https://www.datacamp.com/community/tutorials/xgboost-in-python\n"
      ]
    }
  ]
}