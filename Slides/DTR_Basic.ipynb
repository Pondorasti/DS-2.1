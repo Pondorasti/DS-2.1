{
  "nbformat": 4,
  "nbformat_minor": 5,
  "metadata": {
    "kernelspec": {
      "display_name": "Python 3",
      "language": "python",
      "name": "python3"
    },
    "language_info": {
      "codemirror_mode": {
        "name": "ipython",
        "version": 3
      },
      "file_extension": ".py",
      "mimetype": "text/x-python",
      "name": "python",
      "nbconvert_exporter": "python",
      "pygments_lexer": "ipython3",
      "version": "3.6.5"
    },
    "colab": {
      "name": "DTR_Basic.ipynb",
      "provenance": [],
      "include_colab_link": true
    }
  },
  "cells": [
    {
      "cell_type": "markdown",
      "metadata": {
        "id": "view-in-github",
        "colab_type": "text"
      },
      "source": [
        "<a href=\"https://colab.research.google.com/github/Pondorasti/DS-2.1/blob/main/Slides/DTR_Basic.ipynb\" target=\"_parent\"><img src=\"https://colab.research.google.com/assets/colab-badge.svg\" alt=\"Open In Colab\"/></a>"
      ]
    },
    {
      "cell_type": "code",
      "metadata": {
        "colab": {
          "base_uri": "https://localhost:8080/"
        },
        "id": "simplified-lafayette",
        "outputId": "7f414843-c938-4b62-fa6d-ff83e3bfd52a"
      },
      "source": [
        "from sklearn.tree import DecisionTreeRegressor\n",
        "import numpy as np\n",
        "\n",
        "# Feature, years of work experience\n",
        "X = np.array([5, 7, 12, 23, 25, 28, 29, 34, 35, 40])\n",
        "# Target, salary in in thousand dollars\n",
        "Y = np.array([82, 80, 103, 118, 172, 127, 204, 189, 99, 166])\n",
        "\n",
        "regre = DecisionTreeRegressor(max_depth=1)\n",
        "regre.fit(X.reshape(-1, 1), Y)"
      ],
      "id": "simplified-lafayette",
      "execution_count": 1,
      "outputs": [
        {
          "output_type": "execute_result",
          "data": {
            "text/plain": [
              "DecisionTreeRegressor(ccp_alpha=0.0, criterion='mse', max_depth=1,\n",
              "                      max_features=None, max_leaf_nodes=None,\n",
              "                      min_impurity_decrease=0.0, min_impurity_split=None,\n",
              "                      min_samples_leaf=1, min_samples_split=2,\n",
              "                      min_weight_fraction_leaf=0.0, presort='deprecated',\n",
              "                      random_state=None, splitter='best')"
            ]
          },
          "metadata": {},
          "execution_count": 1
        }
      ]
    },
    {
      "cell_type": "code",
      "metadata": {
        "colab": {
          "base_uri": "https://localhost:8080/"
        },
        "id": "systematic-butterfly",
        "outputId": "16f08736-e66f-4aa0-f339-8298e2f92ad3"
      },
      "source": [
        "from sklearn.tree import export_graphviz\n",
        "import pydotplus\n",
        "\n",
        "dot_data = export_graphviz(regre, out_file=None)\n",
        "graph = pydotplus.graph_from_dot_data(dot_data)\n",
        "graph.write_png('simple_reg_tree_step1.png')"
      ],
      "id": "systematic-butterfly",
      "execution_count": 2,
      "outputs": [
        {
          "output_type": "execute_result",
          "data": {
            "text/plain": [
              "True"
            ]
          },
          "metadata": {},
          "execution_count": 2
        }
      ]
    },
    {
      "cell_type": "code",
      "metadata": {
        "colab": {
          "base_uri": "https://localhost:8080/"
        },
        "id": "pretty-month",
        "outputId": "88df4909-a48f-455c-ea6f-1b6cf5e11d4a"
      },
      "source": [
        "regre.predict(X.reshape(-1, 1))"
      ],
      "id": "pretty-month",
      "execution_count": 3,
      "outputs": [
        {
          "output_type": "execute_result",
          "data": {
            "text/plain": [
              "array([ 95.75,  95.75,  95.75,  95.75, 159.5 , 159.5 , 159.5 , 159.5 ,\n",
              "       159.5 , 159.5 ])"
            ]
          },
          "metadata": {},
          "execution_count": 3
        }
      ]
    },
    {
      "cell_type": "code",
      "metadata": {
        "colab": {
          "base_uri": "https://localhost:8080/",
          "height": 282
        },
        "id": "residential-liability",
        "outputId": "c5e0d77f-4dad-4a1e-fa8f-ae593fab566b"
      },
      "source": [
        "import matplotlib.pyplot as plt\n",
        "\n",
        "plt.plot(X, regre.predict(X.reshape(-1, 1)))\n",
        "plt.scatter(X, Y)"
      ],
      "id": "residential-liability",
      "execution_count": 4,
      "outputs": [
        {
          "output_type": "execute_result",
          "data": {
            "text/plain": [
              "<matplotlib.collections.PathCollection at 0x7f6d7b6350d0>"
            ]
          },
          "metadata": {},
          "execution_count": 4
        },
        {
          "output_type": "display_data",
          "data": {
            "image/png": "[encoded data removed]",
            "text/plain": [
              "<Figure size 432x288 with 1 Axes>"
            ]
          },
          "metadata": {
            "needs_background": "light"
          }
        }
      ]
    },
    {
      "cell_type": "markdown",
      "metadata": {
        "id": "finite-domain"
      },
      "source": [
        "## Definition\n",
        "\n",
        "- DecisionTreeRegressor with max_depth of 1 (DecisionTreeRegressor(max_depth=1)) is called Decision Stump"
      ],
      "id": "finite-domain"
    }
  ]
}