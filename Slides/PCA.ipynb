{
  "nbformat": 4,
  "nbformat_minor": 0,
  "metadata": {
    "kernelspec": {
      "display_name": "Python 3",
      "language": "python",
      "name": "python3"
    },
    "language_info": {
      "codemirror_mode": {
        "name": "ipython",
        "version": 3
      },
      "file_extension": ".py",
      "mimetype": "text/x-python",
      "name": "python",
      "nbconvert_exporter": "python",
      "pygments_lexer": "ipython3",
      "version": "3.6.5"
    },
    "colab": {
      "name": "PCA.ipynb",
      "provenance": [],
      "include_colab_link": true
    }
  },
  "cells": [
    {
      "cell_type": "markdown",
      "metadata": {
        "id": "view-in-github",
        "colab_type": "text"
      },
      "source": [
        "<a href=\"https://colab.research.google.com/github/Pondorasti/DS-2.1/blob/main/Slides/PCA.ipynb\" target=\"_parent\"><img src=\"https://colab.research.google.com/assets/colab-badge.svg\" alt=\"Open In Colab\"/></a>"
      ]
    },
    {
      "cell_type": "markdown",
      "metadata": {
        "id": "VNb5tvllLbhG"
      },
      "source": [
        "## Principel Component Analysis (PCA)\n",
        "\n",
        "- PCA is one of the well-known algorithm for Dimensionality Reduction\n",
        "\n",
        "- PCA: \n",
        "\n",
        "    - Reduce the number of the features\n",
        "    \n",
        "    - While keeping the features information \n",
        "    \n",
        "    - Removes correlations among features\n",
        "    \n",
        "    - PCA emphasizes variation of strong features, making the data easier to visualize\n",
        "    \n",
        "\n",
        "- Lets watch: https://www.youtube.com/watch?v=HMOI_lkzW08 (What is PCA?)\n",
        "\n",
        "- Lets watch: https://www.youtube.com/watch?v=0GzMcUy7ZI0 (What is covariance matrix?)\n",
        "\n",
        "- Lets watch: https://www.youtube.com/watch?v=Awcj447pYuk (How multiply matrix with vector?)\n",
        "\n"
      ]
    },
    {
      "cell_type": "markdown",
      "metadata": {
        "id": "4Rbf4yvtLbhJ"
      },
      "source": [
        "## Review matrix multiplication\n",
        "\n",
        "- Matrix `A = np.array([[2, 0], [1, 5]])` and vector `v = np.array([3, 4])` are given.\n",
        "\n",
        "- What is the multiplication of `A` by `v`.\n",
        "\n",
        "- Compute it by hand\n",
        "\n",
        "- Write a Python code to compute it (Hint: use `np.dot(A, v)`)\n",
        "\n"
      ]
    },
    {
      "cell_type": "code",
      "metadata": {
        "colab": {
          "base_uri": "https://localhost:8080/"
        },
        "id": "u7Tjlq9uLbhK",
        "outputId": "58592d5c-9b7d-4c4c-f698-ffaea17b572b"
      },
      "source": [
        "import numpy as np\n",
        "\n",
        "A = np.array([[2, 0], [1, 5]])\n",
        "v = np.array([3, 4])\n",
        "\n",
        "print(np.dot(A, v))\n",
        "\n"
      ],
      "execution_count": 27,
      "outputs": [
        {
          "output_type": "stream",
          "name": "stdout",
          "text": [
            "[ 6 23]\n"
          ]
        }
      ]
    },
    {
      "cell_type": "markdown",
      "metadata": {
        "id": "ljMpEnNeLbhN"
      },
      "source": [
        "## EigenValue and Eigenvector of matrix\n",
        "\n",
        "For given matrix `A`, we are interested to obtain vector `v` and scalar value `a` such that:\n",
        "\n",
        "`Av = av`"
      ]
    },
    {
      "cell_type": "markdown",
      "metadata": {
        "id": "RvFk9rKXLbhN"
      },
      "source": [
        "### Write a Python code to obtain vector v and scalar a for given matrix A "
      ]
    },
    {
      "cell_type": "code",
      "metadata": {
        "colab": {
          "base_uri": "https://localhost:8080/"
        },
        "id": "GPZFWXO0LbhO",
        "outputId": "cc7a2111-6b84-47da-cdb1-068ed5cf6e88"
      },
      "source": [
        "eig_value, eig_vector = np.linalg.eig(A)\n",
        "\n",
        "print(eig_value)\n",
        "print(eig_vector)"
      ],
      "execution_count": 28,
      "outputs": [
        {
          "output_type": "stream",
          "name": "stdout",
          "text": [
            "[5. 2.]\n",
            "[[ 0.          0.9486833 ]\n",
            " [ 1.         -0.31622777]]\n"
          ]
        }
      ]
    },
    {
      "cell_type": "code",
      "metadata": {
        "colab": {
          "base_uri": "https://localhost:8080/"
        },
        "id": "w7J1QufRLbhP",
        "outputId": "017cc350-f592-439c-a146-6c02f2f413a9"
      },
      "source": [
        "np.dot(A, eig_vector[:, 0])"
      ],
      "execution_count": 29,
      "outputs": [
        {
          "output_type": "execute_result",
          "data": {
            "text/plain": [
              "array([0., 5.])"
            ]
          },
          "metadata": {},
          "execution_count": 29
        }
      ]
    },
    {
      "cell_type": "code",
      "metadata": {
        "colab": {
          "base_uri": "https://localhost:8080/"
        },
        "id": "VcqPmcUaLbhQ",
        "outputId": "9345ff88-7c95-467a-a58d-375cb20cec7c"
      },
      "source": [
        "eig_value[0]*eig_vector[:, 0]"
      ],
      "execution_count": 30,
      "outputs": [
        {
          "output_type": "execute_result",
          "data": {
            "text/plain": [
              "array([0., 5.])"
            ]
          },
          "metadata": {},
          "execution_count": 30
        }
      ]
    },
    {
      "cell_type": "markdown",
      "metadata": {
        "id": "vTIW-FtFLbhR"
      },
      "source": [
        "## Check that Av = av"
      ]
    },
    {
      "cell_type": "code",
      "metadata": {
        "colab": {
          "base_uri": "https://localhost:8080/"
        },
        "id": "wtZWgwghLbhS",
        "outputId": "4ca616c1-d3ca-48c1-a1be-e7a752b8b78e"
      },
      "source": [
        "np.dot(A, eig_vector[:, 1])"
      ],
      "execution_count": 31,
      "outputs": [
        {
          "output_type": "execute_result",
          "data": {
            "text/plain": [
              "array([ 1.8973666 , -0.63245553])"
            ]
          },
          "metadata": {},
          "execution_count": 31
        }
      ]
    },
    {
      "cell_type": "code",
      "metadata": {
        "colab": {
          "base_uri": "https://localhost:8080/"
        },
        "id": "pEj_icIcLbhT",
        "outputId": "6664287c-c1f9-4e5b-a7ff-69ae0cdf59bf"
      },
      "source": [
        "eig_value[1]*eig_vector[:, 1]"
      ],
      "execution_count": 32,
      "outputs": [
        {
          "output_type": "execute_result",
          "data": {
            "text/plain": [
              "array([ 1.8973666 , -0.63245553])"
            ]
          },
          "metadata": {},
          "execution_count": 32
        }
      ]
    },
    {
      "cell_type": "markdown",
      "metadata": {
        "id": "yaru_DQ3LbhU"
      },
      "source": [
        "## Activity: Are the countries in great UK different in terms of food?\n",
        "\n",
        "- In the table is the average consumption of 17 types of food in grams per person per week for every country in the UK\n",
        "\n",
        "- It would be great if we can visually represent diffrence among UK countries based on the food they eat \n",
        "\n",
        "- Lets read: http://setosa.io/ev/principal-component-analysis/"
      ]
    },
    {
      "cell_type": "markdown",
      "metadata": {
        "id": "IWekI4YgLbhV"
      },
      "source": [
        "## Activity: Write a code that obtains the two principle components from 17 types of food in UK"
      ]
    },
    {
      "cell_type": "code",
      "metadata": {
        "colab": {
          "base_uri": "https://localhost:8080/"
        },
        "id": "_FxLBlDCLbhV",
        "outputId": "9de596d5-1f92-465a-cf57-583837a86e35"
      },
      "source": [
        "import numpy as np\n",
        "import pandas as pd\n",
        "from sklearn.decomposition import PCA\n",
        "from sklearn import preprocessing\n",
        "import matplotlib.pyplot as plt\n",
        "\n",
        "\n",
        "df = pd.read_excel('https://raw.githubusercontent.com/Pondorasti/DS-2.1/main/Datasets/PCA%20(UK).xlsx')\n",
        "\n",
        "X = np.array([df[i].values for i in df.columns if i != 'Features'])\n",
        "\n",
        "print(X)\n",
        "\n",
        "pca = PCA(n_components=2)\n",
        "X_r = pca.fit_transform(X)\n",
        "\n",
        "# Principle components of 17 features:\n",
        "print(X_r)"
      ],
      "execution_count": 33,
      "outputs": [
        {
          "output_type": "stream",
          "name": "stdout",
          "text": [
            "[[ 375   57  245 1472  105   54  193  147 1102  720  253  685  488  198\n",
            "   360 1374  156]\n",
            " [ 135   47  267 1494   66   41  209   93  674 1033  143  586  355  187\n",
            "   334 1506  139]\n",
            " [ 458   53  242 1462  103   62  184  122  957  566  171  750  418  220\n",
            "   337 1572  147]\n",
            " [ 475   73  227 1582  103   64  235  160 1137  874  265  803  570  203\n",
            "   365 1256  175]]\n",
            "[[-144.99315218   -2.53299944]\n",
            " [ 477.39163882  -58.90186182]\n",
            " [ -91.869339    286.08178613]\n",
            " [-240.52914764 -224.64692488]]\n"
          ]
        }
      ]
    },
    {
      "cell_type": "code",
      "metadata": {
        "colab": {
          "base_uri": "https://localhost:8080/",
          "height": 265
        },
        "id": "mT2zjVySLbhW",
        "outputId": "387780f1-0d50-4445-8236-90967f563ac3"
      },
      "source": [
        "# Lets visualize the principle components\n",
        "\n",
        "for k, (i,j) in enumerate(zip(X_r[:, 0], X_r[:, 1])):\n",
        "    plt.scatter(i, j)\n",
        "    plt.text(i+0.3, j+0.3, df.columns[:-1][k])\n",
        "\n",
        "plt.show()"
      ],
      "execution_count": 34,
      "outputs": [
        {
          "output_type": "display_data",
          "data": {
            "image/png": "[encoded data removed]",
            "text/plain": [
              "<Figure size 432x288 with 1 Axes>"
            ]
          },
          "metadata": {
            "needs_background": "light"
          }
        }
      ]
    },
    {
      "cell_type": "markdown",
      "metadata": {
        "id": "vmWeTzd-LbhW"
      },
      "source": [
        "### Answer: Ireland is different from other three countries in UK "
      ]
    },
    {
      "cell_type": "markdown",
      "metadata": {
        "id": "u0BzlapJLbhX"
      },
      "source": [
        "## How much of the dataset information is preserved in the components?\n",
        "\n",
        "Hint: use `pca.explained_variance_ratio_`"
      ]
    },
    {
      "cell_type": "code",
      "metadata": {
        "colab": {
          "base_uri": "https://localhost:8080/"
        },
        "id": "URvSuHIOLbhY",
        "outputId": "9f471445-05bd-42c4-8587-31284850c480"
      },
      "source": [
        "# PCA computation by sklearn\n",
        "pca = PCA(n_components=2)\n",
        "X_r = pca.fit_transform(X)\n",
        "print(X_r)\n",
        "print(pca.explained_variance_)\n",
        "print(pca.explained_variance_ratio_)\n",
        "print(pca.explained_variance_ratio_.cumsum())"
      ],
      "execution_count": 35,
      "outputs": [
        {
          "output_type": "stream",
          "name": "stdout",
          "text": [
            "[[-144.99315218   -2.53299944]\n",
            " [ 477.39163882  -58.90186182]\n",
            " [ -91.869339    286.08178613]\n",
            " [-240.52914764 -224.64692488]]\n",
            "[105073.34576714  45261.62487597]\n",
            "[0.67444346 0.29052475]\n",
            "[0.67444346 0.96496821]\n"
          ]
        }
      ]
    },
    {
      "cell_type": "markdown",
      "metadata": {
        "id": "9q9VntnBLbha"
      },
      "source": [
        "## Calculate the correlation of the principle components"
      ]
    },
    {
      "cell_type": "code",
      "metadata": {
        "colab": {
          "base_uri": "https://localhost:8080/"
        },
        "id": "SK0X3XfoLbha",
        "outputId": "84c2b345-ad6a-43b8-d172-86ada0b5680c"
      },
      "source": [
        "import scipy\n",
        "print('Correlation of PCA Component:')\n",
        "print(scipy.stats.pearsonr(X_r[:, 0], X_r[:, 1]))"
      ],
      "execution_count": 36,
      "outputs": [
        {
          "output_type": "stream",
          "name": "stdout",
          "text": [
            "Correlation of PCA Component:\n",
            "(-1.6145741504003108e-18, 1.0)\n"
          ]
        }
      ]
    },
    {
      "cell_type": "markdown",
      "metadata": {
        "id": "iNhIIST5Lbhb"
      },
      "source": [
        "## Lets write our own function to obtain principle components"
      ]
    },
    {
      "cell_type": "markdown",
      "metadata": {
        "id": "Nn4RoU_vLbhb"
      },
      "source": [
        "### Activity: PCA Steps\n",
        "\n",
        "Follow the steps here and write a function that computes the principle component for dataset we watched in YouTube.\n",
        "\n",
        "https://www.youtube.com/watch?v=0GzMcUy7ZI0 \n",
        "\n",
        "Steps: \n",
        "\n",
        "1- Subtract column mean from feature matrix\n",
        "\n",
        "2- Calculate the covariance of centered matrix\n",
        "\n",
        "3- Calculate the eigenvalue and eigenvector of covariance matrix. Do arange eigevalue in decresing order \n",
        "\n",
        "4- Return the first K (two for example) column of matrix multiplication of centerned matrix with eigenvector matrix\n",
        "\n",
        "Compare the result of custom function with PCA in `sklearn`"
      ]
    },
    {
      "cell_type": "code",
      "metadata": {
        "colab": {
          "base_uri": "https://localhost:8080/"
        },
        "id": "PWsfyCSeLbhb",
        "outputId": "eca49fbd-e0d0-4fbe-8427-95825f2b6f1a"
      },
      "source": [
        "# PCA computation by sklearn\n",
        "\n",
        "X = np.array([[1, 1, 1], [1, 2, 1], [1, 3, 2], [1, 4, 3]])\n",
        "# print(X)\n",
        "pca = PCA(n_components=2)\n",
        "X_r = pca.fit_transform(X)\n",
        "print(X_r)\n",
        "print(pca.explained_variance_)\n",
        "print(pca.explained_variance_ratio_)\n",
        "print(pca.explained_variance_ratio_.cumsum())\n",
        "\n",
        "print('Correlation of PCA Component:')\n",
        "print(scipy.stats.pearsonr(X_r[:, 0], X_r[:, 1]))\n",
        "\n",
        "\n",
        "# Our function to comapre \n",
        "def PCA_calculation(data, n_comp=2):\n",
        "    M = np.mean(data, axis=0)\n",
        "    # center columns by subtracting column means\n",
        "    C =  X - M\n",
        "    # calculate covariance matrix of centered matrix\n",
        "    V = np.cov(C.T)\n",
        "    print(V)\n",
        "    # eigendecomposition of covariance matrix\n",
        "    eig_value, eig_vector = np.linalg.eig(V)\n",
        "    # sort eigenvalue in decreasing order\n",
        "    idx = np.argsort(eig_value)[::-1] \n",
        "    eig_value = eig_value[idx]\n",
        "    # sort eigenvectors according to same index\n",
        "    eig_vector = eig_vector[:, idx]\n",
        "    P = np.dot(C, eig_vector)[:, :n_comp]\n",
        "    return P\n",
        "\n",
        "\n",
        "PCA_calculation(X, 2)"
      ],
      "execution_count": 37,
      "outputs": [
        {
          "output_type": "stream",
          "name": "stdout",
          "text": [
            "[[-1.65392786 -0.2775295 ]\n",
            " [-0.84584087  0.31153366]\n",
            " [ 0.55130929  0.09250983]\n",
            " [ 1.94845944 -0.126514  ]]\n",
            "[2.5171201  0.06621324]\n",
            "[0.97436907 0.02563093]\n",
            "[0.97436907 1.        ]\n",
            "Correlation of PCA Component:\n",
            "(3.907625229796507e-16, 0.9999999999999996)\n",
            "[[0.         0.         0.        ]\n",
            " [0.         1.66666667 1.16666667]\n",
            " [0.         1.16666667 0.91666667]]\n"
          ]
        },
        {
          "output_type": "execute_result",
          "data": {
            "text/plain": [
              "array([[ 1.65392786, -0.2775295 ],\n",
              "       [ 0.84584087,  0.31153366],\n",
              "       [-0.55130929,  0.09250983],\n",
              "       [-1.94845944, -0.126514  ]])"
            ]
          },
          "metadata": {},
          "execution_count": 37
        }
      ]
    },
    {
      "cell_type": "code",
      "metadata": {
        "colab": {
          "base_uri": "https://localhost:8080/"
        },
        "id": "-Qpg9jMuLbhc",
        "outputId": "252f0c1f-f0fc-4996-bf5b-8fae2bcb1203"
      },
      "source": [
        "def PCA_custom(data, dims_rescaled_data=2):\n",
        "    \"\"\"\n",
        "    returns: data transformed in 2 dims/columns + regenerated original data\n",
        "    pass in: data as 2D NumPy array\n",
        "    \"\"\"\n",
        "    # mean center the data\n",
        "    data = data - np.mean(data, axis=0)\n",
        "    # calculate the covariance matrix\n",
        "    R = np.cov(data, rowvar=False)\n",
        "    # calculate eigenvectors & eigenvalues of the covariance matrix\n",
        "    # use 'eigh' rather than 'eig' since R is symmetric,\n",
        "    # the performance gain is substantial\n",
        "    evals, evecs = np.linalg.eig(R)\n",
        "    # sort eigenvalue in decreasing order\n",
        "    idx = np.argsort(evals)[::-1]\n",
        "    evecs = evecs[:, idx]\n",
        "    # sort eigenvectors according to same index\n",
        "    evals = evals[idx]\n",
        "    # select the first n eigenvectors (n is desired dimension\n",
        "    # of rescaled data array, or dims_rescaled_data)\n",
        "    evecs = evecs[:, :dims_rescaled_data]\n",
        "    # carry out the transformation on the data using eigenvectors\n",
        "    # and return the re-scaled data, eigenvalues, and eigenvectors\n",
        "    return np.dot(evecs.T, data.T).T\n",
        "\n",
        "\n",
        "print(PCA_custom(X, 2))"
      ],
      "execution_count": 38,
      "outputs": [
        {
          "output_type": "stream",
          "name": "stdout",
          "text": [
            "[[ 1.65392786 -0.2775295 ]\n",
            " [ 0.84584087  0.31153366]\n",
            " [-0.55130929  0.09250983]\n",
            " [-1.94845944 -0.126514  ]]\n"
          ]
        }
      ]
    }
  ]
}