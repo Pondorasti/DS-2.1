{
  "nbformat": 4,
  "nbformat_minor": 0,
  "metadata": {
    "colab": {
      "name": "Logistic Regression.ipynb",
      "provenance": [],
      "authorship_tag": "ABX9TyNIgi944CKO5P7tweGrh5N9",
      "include_colab_link": true
    },
    "kernelspec": {
      "name": "python3",
      "display_name": "Python 3"
    },
    "language_info": {
      "name": "python"
    }
  },
  "cells": [
    {
      "cell_type": "markdown",
      "metadata": {
        "id": "view-in-github",
        "colab_type": "text"
      },
      "source": [
        "<a href=\"https://colab.research.google.com/github/Pondorasti/DS-2.1/blob/main/Slides/Logistic_Regression.ipynb\" target=\"_parent\"><img src=\"https://colab.research.google.com/assets/colab-badge.svg\" alt=\"Open In Colab\"/></a>"
      ]
    },
    {
      "cell_type": "code",
      "metadata": {
        "id": "wSXo8KQ21EJd"
      },
      "source": [
        "import pandas as pd\n",
        "from sklearn.model_selection import train_test_split"
      ],
      "execution_count": 9,
      "outputs": []
    },
    {
      "cell_type": "code",
      "metadata": {
        "colab": {
          "base_uri": "https://localhost:8080/"
        },
        "id": "66rJdGBz1SKs",
        "outputId": "1e07fa16-bdca-4043-8d47-8bd8def718cc"
      },
      "source": [
        "pima = pd.read_csv('diabetes.csv')\n",
        "\n",
        "feature_cols = ['Pregnancies', 'Insulin', 'BMI', 'Age']\n",
        "\n",
        "X = pima[feature_cols]\n",
        "\n",
        "y = pima['Outcome']\n",
        "\n",
        "X_train, X_test, y_train, y_test = train_test_split(X, y, test_size=0.25, random_state=0)\n",
        "\n",
        "y_test.value_counts()"
      ],
      "execution_count": 10,
      "outputs": [
        {
          "output_type": "execute_result",
          "data": {
            "text/plain": [
              "0    130\n",
              "1     62\n",
              "Name: Outcome, dtype: int64"
            ]
          },
          "metadata": {},
          "execution_count": 10
        }
      ]
    },
    {
      "cell_type": "code",
      "metadata": {
        "colab": {
          "base_uri": "https://localhost:8080/"
        },
        "id": "RCOchJPX2Bej",
        "outputId": "592c0a49-daa7-4cb6-b62b-845e27b3ce4d"
      },
      "source": [
        "len(y_train) / (len(y_train) + len(y_test))\n"
      ],
      "execution_count": 11,
      "outputs": [
        {
          "output_type": "execute_result",
          "data": {
            "text/plain": [
              "0.75"
            ]
          },
          "metadata": {},
          "execution_count": 11
        }
      ]
    },
    {
      "cell_type": "code",
      "metadata": {
        "colab": {
          "base_uri": "https://localhost:8080/"
        },
        "id": "RQVUFqmk3U44",
        "outputId": "0d21b59f-730a-446e-8d8f-fd85a5f90b5c"
      },
      "source": [
        "from sklearn.linear_model import LogisticRegression\n",
        "\n",
        "logreg = LogisticRegression()\n",
        "logreg.fit(X_train, y_train)"
      ],
      "execution_count": 12,
      "outputs": [
        {
          "output_type": "execute_result",
          "data": {
            "text/plain": [
              "LogisticRegression(C=1.0, class_weight=None, dual=False, fit_intercept=True,\n",
              "                   intercept_scaling=1, l1_ratio=None, max_iter=100,\n",
              "                   multi_class='auto', n_jobs=None, penalty='l2',\n",
              "                   random_state=None, solver='lbfgs', tol=0.0001, verbose=0,\n",
              "                   warm_start=False)"
            ]
          },
          "metadata": {},
          "execution_count": 12
        }
      ]
    },
    {
      "cell_type": "code",
      "metadata": {
        "id": "7CiQEei53ghm"
      },
      "source": [
        "y_pred = logreg.predict(X_test)"
      ],
      "execution_count": 13,
      "outputs": []
    },
    {
      "cell_type": "code",
      "metadata": {
        "colab": {
          "base_uri": "https://localhost:8080/"
        },
        "id": "2yFXxREn33rc",
        "outputId": "004c08c2-ea30-4266-f141-0a1cff7456a4"
      },
      "source": [
        "y_pred"
      ],
      "execution_count": 14,
      "outputs": [
        {
          "output_type": "execute_result",
          "data": {
            "text/plain": [
              "array([0, 0, 0, 0, 0, 0, 0, 1, 0, 1, 0, 1, 0, 0, 0, 0, 0, 0, 0, 0, 0, 0,\n",
              "       0, 0, 0, 0, 0, 1, 0, 0, 0, 0, 0, 0, 0, 0, 0, 0, 0, 0, 0, 0, 0, 0,\n",
              "       1, 0, 0, 0, 0, 0, 0, 0, 1, 0, 0, 0, 0, 1, 0, 0, 1, 0, 0, 0, 0, 0,\n",
              "       0, 0, 0, 0, 0, 0, 0, 1, 0, 0, 1, 0, 0, 0, 1, 0, 0, 0, 0, 0, 0, 1,\n",
              "       1, 0, 0, 0, 0, 0, 0, 0, 1, 1, 1, 0, 1, 0, 0, 0, 0, 0, 0, 0, 0, 0,\n",
              "       0, 1, 0, 0, 0, 0, 0, 0, 0, 1, 1, 1, 0, 1, 0, 0, 0, 0, 0, 0, 0, 0,\n",
              "       0, 1, 0, 1, 0, 0, 0, 0, 0, 0, 0, 0, 0, 0, 0, 0, 0, 0, 0, 0, 0, 0,\n",
              "       1, 0, 1, 0, 0, 1, 0, 0, 0, 0, 0, 0, 1, 0, 0, 0, 0, 1, 0, 0, 1, 0,\n",
              "       1, 0, 0, 0, 0, 1, 0, 0, 0, 0, 0, 0, 0, 0, 0, 0])"
            ]
          },
          "metadata": {},
          "execution_count": 14
        }
      ]
    },
    {
      "cell_type": "code",
      "metadata": {
        "colab": {
          "base_uri": "https://localhost:8080/"
        },
        "id": "QvzhduXk3qf_",
        "outputId": "aae3674b-3629-4b4b-b3fe-7d499b23003c"
      },
      "source": [
        "y_test.values.T"
      ],
      "execution_count": 15,
      "outputs": [
        {
          "output_type": "execute_result",
          "data": {
            "text/plain": [
              "array([1, 0, 0, 1, 0, 0, 1, 1, 0, 0, 1, 1, 0, 0, 0, 0, 1, 0, 0, 0, 1, 1,\n",
              "       0, 0, 0, 0, 0, 0, 0, 0, 0, 0, 0, 0, 0, 1, 1, 0, 0, 0, 0, 0, 0, 1,\n",
              "       1, 0, 0, 1, 1, 1, 0, 0, 1, 0, 0, 0, 0, 1, 1, 1, 1, 0, 0, 1, 1, 1,\n",
              "       1, 0, 0, 0, 0, 0, 0, 0, 1, 0, 0, 0, 0, 0, 0, 0, 0, 0, 0, 0, 1, 0,\n",
              "       1, 0, 0, 0, 0, 0, 0, 0, 1, 0, 1, 1, 0, 0, 0, 0, 0, 1, 0, 0, 0, 1,\n",
              "       0, 1, 1, 1, 1, 1, 0, 0, 0, 1, 0, 0, 0, 0, 0, 0, 0, 1, 0, 0, 0, 0,\n",
              "       0, 1, 0, 1, 0, 1, 1, 0, 0, 0, 0, 0, 1, 0, 0, 0, 0, 1, 0, 1, 0, 0,\n",
              "       1, 0, 0, 0, 1, 1, 1, 1, 0, 0, 0, 1, 0, 0, 0, 0, 0, 0, 1, 1, 0, 0,\n",
              "       0, 0, 0, 0, 1, 1, 0, 1, 1, 0, 1, 1, 1, 0, 0, 0])"
            ]
          },
          "metadata": {},
          "execution_count": 15
        }
      ]
    },
    {
      "cell_type": "code",
      "metadata": {
        "colab": {
          "base_uri": "https://localhost:8080/"
        },
        "id": "KaTJAStk31dc",
        "outputId": "78084381-309c-429a-d0ba-417e41fa289d"
      },
      "source": [
        "zeroCount = 0\n",
        "incorrectZeroCount = 0\n",
        "oneCount = 0\n",
        "incorrectOneCount = 0\n",
        "length = len(y_pred)\n",
        "\n",
        "for index in range(0, length):\n",
        "  if y_pred[index] == y_test.values.T[index]:\n",
        "    if y_pred[index] == 0:\n",
        "      zeroCount += 1\n",
        "    elif y_pred[index] == 1:\n",
        "      oneCount += 1\n",
        "  elif y_test.values.T[index] == 0 and y_pred[index] == 1:\n",
        "    incorrectZeroCount += 1\n",
        "  elif y_test.values.T[index] == 1 and y_pred[index] == 0:\n",
        "    incorrectOneCount += 1\n",
        "  \n",
        "\n",
        "print(zeroCount)\n",
        "print(incorrectZeroCount)\n",
        "print(incorrectOneCount)\n",
        "print(oneCount)\n",
        "print(zeroCount + incorrectZeroCount + incorrectOneCount + oneCount)\n",
        "print((zeroCount + oneCount) / length) # accuracy"
      ],
      "execution_count": 16,
      "outputs": [
        {
          "output_type": "stream",
          "name": "stdout",
          "text": [
            "114\n",
            "16\n",
            "46\n",
            "16\n",
            "192\n",
            "0.6770833333333334\n"
          ]
        }
      ]
    },
    {
      "cell_type": "code",
      "metadata": {
        "colab": {
          "base_uri": "https://localhost:8080/"
        },
        "id": "hgpnhuUZ9sGm",
        "outputId": "18bdffd3-ad94-4400-a1bb-69e634685166"
      },
      "source": [
        "from sklearn import metrics\n",
        "\n",
        "confusion = metrics.confusion_matrix(y_test, y_pred)\n",
        "confusion"
      ],
      "execution_count": 17,
      "outputs": [
        {
          "output_type": "execute_result",
          "data": {
            "text/plain": [
              "array([[114,  16],\n",
              "       [ 46,  16]])"
            ]
          },
          "metadata": {},
          "execution_count": 17
        }
      ]
    },
    {
      "cell_type": "code",
      "metadata": {
        "colab": {
          "base_uri": "https://localhost:8080/"
        },
        "id": "2rWf-F8m95sz",
        "outputId": "0b22465e-f0c8-4df5-b8a2-c91138905819"
      },
      "source": [
        "logreg.classes_"
      ],
      "execution_count": 18,
      "outputs": [
        {
          "output_type": "execute_result",
          "data": {
            "text/plain": [
              "array([0, 1])"
            ]
          },
          "metadata": {},
          "execution_count": 18
        }
      ]
    },
    {
      "cell_type": "code",
      "metadata": {
        "id": "dIDD3LIhAdyt",
        "colab": {
          "base_uri": "https://localhost:8080/"
        },
        "outputId": "2b09e51d-7b31-4a99-ffe9-b2a7ac3b06ad"
      },
      "source": [
        "y_pred_prob = logreg.predict_proba(X_test)\n",
        "\n",
        "threshold = y_train.value_counts()[1] / len(y_train)\n",
        "print(threshold) # percentage of minority class (diabetes in y_train)\n",
        "\n",
        "for index in range(0, len(y_pred_prob)):\n",
        "  if y_pred_prob[index][1] > threshold:\n",
        "    y_pred[index] = 1\n",
        "  else:\n",
        "    y_pred[index] = 0\n",
        "\n",
        "\n",
        "new_confusion = metrics.confusion_matrix(y_test, y_pred)\n",
        "new_confusion"
      ],
      "execution_count": 24,
      "outputs": [
        {
          "output_type": "stream",
          "name": "stdout",
          "text": [
            "0.3576388888888889\n"
          ]
        },
        {
          "output_type": "execute_result",
          "data": {
            "text/plain": [
              "array([[90, 40],\n",
              "       [26, 36]])"
            ]
          },
          "metadata": {},
          "execution_count": 24
        }
      ]
    },
    {
      "cell_type": "code",
      "metadata": {
        "colab": {
          "base_uri": "https://localhost:8080/"
        },
        "id": "4WjHYvELNZv6",
        "outputId": "d4a19bb9-e1c2-4ad6-b0ff-3e4b57b4b762"
      },
      "source": [
        "def accuracy(confusion):\n",
        "  return (confusion[0][0] + confusion[1][1]) / (confusion[0][0] + confusion[0][1] + confusion[1][0] + confusion[1][1])\n",
        "\n",
        "def error(confusion):\n",
        "  return 1 - accuracy(confusion)\n",
        "\n",
        "def recall(confusion):\n",
        "  return confusion[1][1] / (confusion[1][0] + confusion[1][1])\n",
        "\n",
        "def precision(confusion):\n",
        "  return confusion[1][1] / (confusion[0][1] + confusion[1][1])\n",
        "\n",
        "def specificity(confusion):\n",
        "  return confusion[0][0] / (confusion[0][0] + confusion[0][1])\n",
        "\n",
        "\n",
        "print(f\"Accuracy: {accuracy(new_confusion)}\")\n",
        "print(f\"Error: {error(new_confusion)}\")\n",
        "print(f\"Recall: {recall(new_confusion)}\")\n",
        "print(f\"Precision: {precision(new_confusion)}\")\n",
        "print(f\"Specificity: {specificity(new_confusion)}\")"
      ],
      "execution_count": 25,
      "outputs": [
        {
          "output_type": "stream",
          "name": "stdout",
          "text": [
            "Accuracy: 0.65625\n",
            "Error: 0.34375\n",
            "Recall: 0.5806451612903226\n",
            "Precision: 0.47368421052631576\n",
            "Specificity: 0.6923076923076923\n"
          ]
        }
      ]
    }
  ]
}